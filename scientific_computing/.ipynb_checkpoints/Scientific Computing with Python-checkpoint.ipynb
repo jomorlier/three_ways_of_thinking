{
 "cells": [
  {
   "cell_type": "markdown",
   "metadata": {
    "collapsed": true
   },
   "source": [
    "<font size = '6'><b>Scientific Computing with Python</b></font><br>\n",
    "\n",
    "<table style=\"border-style: hidden; border-collapse: collapse;\" width = \"80%\"> \n",
    "    <tr style=\"border-style: hidden; border-collapse: collapse;\">\n",
    "        <td width = 50% style=\"border-style: hidden; border-collapse: collapse;\">\n",
    "             \n",
    "        </td>\n",
    "        <td width = 30%>\n",
    "            Prof. Seungchul Lee<br>iSystems Design Lab<br>UNIST<br>http://isystems.unist.ac.kr/\n",
    "        </td>\n",
    "    </tr>\n",
    "</table>\n"
   ]
  },
  {
   "cell_type": "markdown",
   "metadata": {},
   "source": [
    "## Problem\n",
    "\n",
    "Write a m-code to create an output matrix Y which consists of only even numbers (in order) from the given input X.\n",
    "\n",
    "For example,\n",
    "- Input X = [1, 2, …,10]\n",
    "- Output Y = [2, 4,…,10] "
   ]
  },
  {
   "cell_type": "code",
   "execution_count": 1,
   "metadata": {
    "collapsed": true
   },
   "outputs": [],
   "source": [
    "import numpy as np\n",
    "import matplotlib.pyplot as plt\n",
    "from numpy.linalg import *\n",
    "from pylab import *\n",
    "\n",
    "%matplotlib inline"
   ]
  },
  {
   "cell_type": "code",
   "execution_count": 2,
   "metadata": {
    "collapsed": false
   },
   "outputs": [
    {
     "name": "stdout",
     "output_type": "stream",
     "text": [
      "[  1.   2.   3.   4.   5.   6.   7.   8.   9.  10.]\n",
      "[2.0, 4.0, 6.0, 8.0, 10.0]\n"
     ]
    }
   ],
   "source": [
    "X = np.linspace(1, 10, 10)\n",
    "n = len(X)\n",
    "Y = []\n",
    "\n",
    "for i in range(0,n):\n",
    "    if X[i]%2 == 0:\n",
    "        Y.append(X[i])\n",
    "\n",
    "print(X)\n",
    "print(Y)"
   ]
  },
  {
   "cell_type": "markdown",
   "metadata": {},
   "source": [
    "## Problem\n",
    "\n",
    "Given an integer $n$, write a m-code to compute the following:\n",
    "\n",
    "$$S = 1 + \\frac{1}{2} + … + \\frac{1}{n}$$"
   ]
  },
  {
   "cell_type": "code",
   "execution_count": 3,
   "metadata": {
    "collapsed": false
   },
   "outputs": [
    {
     "name": "stdout",
     "output_type": "stream",
     "text": [
      "2.92896825397\n"
     ]
    }
   ],
   "source": [
    "# first method\n",
    "\n",
    "n = 10\n",
    "m = np.zeros((1,n))\n",
    "\n",
    "for i in range(0,n):\n",
    "    m[0][i] = 1/(i+1)\n",
    "    \n",
    "S = sum(m[0])\n",
    "\n",
    "print(S)"
   ]
  },
  {
   "cell_type": "code",
   "execution_count": 4,
   "metadata": {
    "collapsed": false
   },
   "outputs": [
    {
     "name": "stdout",
     "output_type": "stream",
     "text": [
      "2.9289682539682538\n"
     ]
    }
   ],
   "source": [
    "# second method\n",
    "\n",
    "n = 10\n",
    "temp_sum = 0\n",
    "\n",
    "for i in range(0,n):\n",
    "    temp_sum = temp_sum + 1/(i+1)\n",
    "    \n",
    "S = temp_sum\n",
    "\n",
    "print(S)"
   ]
  },
  {
   "cell_type": "markdown",
   "metadata": {},
   "source": [
    "## Problem\n",
    "\n",
    "Plot $\\;f(t) = \\frac{3}{2} \\sin^2(t) + 3 \\cos^2(t) + 1\\;$ for $\\;0\\leq t \\leq 3$, and find $\\,t\\,$ that minimizes $f(t)$."
   ]
  },
  {
   "cell_type": "code",
   "execution_count": 5,
   "metadata": {
    "collapsed": false
   },
   "outputs": [
    {
     "data": {
      "image/png": "[encoded data removed]",
      "text/plain": [
       "<matplotlib.figure.Figure at 0x2072b8fdf60>"
      ]
     },
     "metadata": {},
     "output_type": "display_data"
    },
    {
     "name": "stdout",
     "output_type": "stream",
     "text": [
      "1.57\n"
     ]
    }
   ],
   "source": [
    "t = np.arange(0.0,3.0,0.01)\n",
    "x1 = np.sin(t)\n",
    "x2 = np.cos(t)\n",
    "\n",
    "a1 = 1.5\n",
    "a2 = 3\n",
    "a3 = 1\n",
    "\n",
    "f = a1*(x1**2) + a2*(x2**2) + a3\n",
    "\n",
    "plt.plot(t,f)\n",
    "plt.show()\n",
    "\n",
    "def min(f):\n",
    "    I = 0\n",
    "    Y = f[0]\n",
    "    for i in range(1,len(f)):\n",
    "        if f[i] < Y:\n",
    "            Y = f[i]\n",
    "            I = i\n",
    "    return Y, I\n",
    "\n",
    "Y,I = min(f)\n",
    "print(t[I])"
   ]
  },
  {
   "cell_type": "markdown",
   "metadata": {},
   "source": [
    "## Problem\n",
    "\n",
    "Plot $\\;f(x) = \\sin{x} \\cdotp e^x + \\log_{10}(3x) + \\frac{1}{\\sqrt{2x + 7}}\\;$ for $\\;0 \\leq x \\leq \\pi$, and find $x$ that maximizes $f(x)$."
   ]
  },
  {
   "cell_type": "code",
   "execution_count": 6,
   "metadata": {
    "collapsed": false
   },
   "outputs": [
    {
     "data": {
      "image/png": "[encoded data removed]",
      "text/plain": [
       "<matplotlib.figure.Figure at 0x2072b97ab00>"
      ]
     },
     "metadata": {},
     "output_type": "display_data"
    }
   ],
   "source": [
    "x = np.linspace(0.01,np.pi,100)\n",
    "y = np.sin(x)*np.exp(x) + np.log10(3*x) + 1/np.sqrt(2*x + 7)\n",
    "\n",
    "plt.plot(x,y)\n",
    "plt.axis('tight')\n",
    "plt.show()"
   ]
  },
  {
   "cell_type": "markdown",
   "metadata": {},
   "source": [
    "## Problem \n",
    "\n",
    "$M = \\begin{bmatrix}\n",
    "1 & 4 & -3\\\\\n",
    "4 & 2 & 0\\\\\n",
    "-3 & 0 & 3\n",
    "\\end{bmatrix}$, calculate $\\left(M^TM\\right)^{-1}M^2$"
   ]
  },
  {
   "cell_type": "code",
   "execution_count": 7,
   "metadata": {
    "collapsed": false
   },
   "outputs": [
    {
     "name": "stdout",
     "output_type": "stream",
     "text": [
      "[[ 26  12 -12]\n",
      " [ 12  20 -12]\n",
      " [-12 -12  18]]\n",
      "[[ 0.06       -0.02        0.02666667]\n",
      " [-0.02        0.09        0.04666667]\n",
      " [ 0.02666667  0.04666667  0.10444444]]\n",
      "[[  1.00000000e+00   5.55111512e-17  -5.55111512e-17]\n",
      " [  1.11022302e-16   1.00000000e+00   0.00000000e+00]\n",
      " [  0.00000000e+00   2.22044605e-16   1.00000000e+00]]\n"
     ]
    }
   ],
   "source": [
    "M = np.array([[1,4,-3],[4,2,0],[-3,0,3]])\n",
    "\n",
    "print(np.dot(M.T,M))\n",
    "print(linalg.inv(np.dot(M.T,M)))\n",
    "\n",
    "print(np.dot(linalg.inv(np.dot(M.T,M)),np.dot(M,M)))"
   ]
  },
  {
   "cell_type": "markdown",
   "metadata": {},
   "source": [
    "## Problem\n",
    "\n",
    "We want to write code for calculating $S_n = 1 + \\frac{1}{2} + \\frac{1}{2^2} + … + \\frac{1}{2^n}$\n",
    "\n",
    "1) $S_n$ if $n=5$\n",
    "\n",
    "2) find a maximum value of $n$ such that $S_n \\leq 1.999$\n",
    "\n",
    "3) plot $S_n$ with a function of $n \\;(\\leq 10)$"
   ]
  },
  {
   "cell_type": "code",
   "execution_count": 8,
   "metadata": {
    "collapsed": false
   },
   "outputs": [
    {
     "name": "stdout",
     "output_type": "stream",
     "text": [
      "1.96875\n"
     ]
    }
   ],
   "source": [
    "#1)\n",
    "\n",
    "n = 5\n",
    "temp_sum = 0\n",
    "\n",
    "for i in range(0,n+1):\n",
    "    temp_sum = temp_sum + 1/(2**i)\n",
    "    \n",
    "Sn = temp_sum\n",
    "\n",
    "print(Sn)"
   ]
  },
  {
   "cell_type": "code",
   "execution_count": 9,
   "metadata": {
    "collapsed": false
   },
   "outputs": [
    {
     "name": "stdout",
     "output_type": "stream",
     "text": [
      "10\n"
     ]
    }
   ],
   "source": [
    "#2)\n",
    "\n",
    "temp_sum = 0\n",
    "n = 0\n",
    "\n",
    "while temp_sum <= 1.999:\n",
    "    temp_sum = temp_sum + 1/(2**n)\n",
    "    n = n + 1\n",
    "\n",
    "print(n - 1)"
   ]
  },
  {
   "cell_type": "code",
   "execution_count": 10,
   "metadata": {
    "collapsed": false
   },
   "outputs": [
    {
     "data": {
      "image/png": "[encoded data removed]",
      "text/plain": [
       "<matplotlib.figure.Figure at 0x2072ba3bd30>"
      ]
     },
     "metadata": {},
     "output_type": "display_data"
    }
   ],
   "source": [
    "#3)\n",
    "\n",
    "Sn = []\n",
    "n = range(0,11)\n",
    "temp_sum = 0\n",
    "\n",
    "for i in n:\n",
    "    temp_sum = temp_sum + 1/(2**i)\n",
    "    Sn.append(temp_sum)\n",
    "    \n",
    "stem(n,Sn)\n",
    "plt.show()"
   ]
  },
  {
   "cell_type": "markdown",
   "metadata": {},
   "source": [
    "## Problem\n",
    "\n",
    "We want to learn about how to numerically take an integral of the given function of $f(x)$.\n",
    "\n",
    "Calculate $\\int^\\pi_0 \\sin{x}dx$ by using the idea shown in the below figure.\n",
    "\n",
    "<img src=\"./image_files/integral.png\" width = 300>"
   ]
  },
  {
   "cell_type": "code",
   "execution_count": 11,
   "metadata": {
    "collapsed": false
   },
   "outputs": [
    {
     "data": {
      "image/png": "[encoded data removed]",
      "text/plain": [
       "<matplotlib.figure.Figure at 0x2072be2e940>"
      ]
     },
     "metadata": {},
     "output_type": "display_data"
    }
   ],
   "source": [
    "a = 0\n",
    "b = pi\n",
    "delta = 0.01\n",
    "x = np.arange(a,b,delta)\n",
    "y = np.sin(x)\n",
    "\n",
    "plt.plot(x,y)\n",
    "plt.axis('equal')\n",
    "plt.xlim(x[0],x[len(x)-1])\n",
    "plt.show()"
   ]
  },
  {
   "cell_type": "code",
   "execution_count": 12,
   "metadata": {
    "collapsed": false
   },
   "outputs": [
    {
     "name": "stdout",
     "output_type": "stream",
     "text": [
      "1.99998206504\n",
      "1.99997410178\n"
     ]
    }
   ],
   "source": [
    "temp_area = 0\n",
    "for i in range(0,len(x)-1):\n",
    "    temp_area = temp_area + delta*((y[i]+y[i+1])/2)\n",
    "print(temp_area)\n",
    "\n",
    "temp_area2 = 0\n",
    "for i in range(0,len(x)-1):\n",
    "    temp_area2 = temp_area2 + delta*y[i]\n",
    "print(temp_area2)"
   ]
  },
  {
   "cell_type": "markdown",
   "metadata": {},
   "source": [
    "## Problem\n",
    "\n",
    "We want to learn about how to numerically take a derivative of the given function of $f(x)$.\n",
    "\n",
    "Calculate $\\left.\\frac{d\\sin{x}}{dx}\\right|_{x=0}$ by using the idea shown in the below figure.\n",
    "\n",
    "<img src=\"./image_files/derivative.png\" width = 250>"
   ]
  },
  {
   "cell_type": "code",
   "execution_count": 13,
   "metadata": {
    "collapsed": false
   },
   "outputs": [
    {
     "name": "stdout",
     "output_type": "stream",
     "text": [
      "0.999983333417\n"
     ]
    }
   ],
   "source": [
    "a = 0\n",
    "delta = 0.01\n",
    "\n",
    "dy = (sin(a + delta) - sin(a))/delta\n",
    "\n",
    "print(dy)"
   ]
  },
  {
   "cell_type": "markdown",
   "metadata": {},
   "source": [
    "## Problem \n",
    "\n",
    "Here, we’d like to numerically find the solutions (roots) of the following equation,\n",
    "\n",
    "$$f(x) = 4x^3 + 10x^2 - 20x - 10 \\quad \\text{for} \\quad -4 \\leq x \\leq 3 $$\n",
    "\n",
    "1) Plot $f(x)$ over $-4 \\leq x \\leq 3$\n",
    "\n",
    "2) Numerically find all the roots (solutions) of $f(x) = 0$ with a hint of the below figure.\n",
    "\n",
    "<img src=\"./image_files/roots.png\" width = 250>"
   ]
  },
  {
   "cell_type": "code",
   "execution_count": 14,
   "metadata": {
    "collapsed": false
   },
   "outputs": [
    {
     "data": {
      "image/png": "[encoded data removed]",
      "text/plain": [
       "<matplotlib.figure.Figure at 0x2072be52160>"
      ]
     },
     "metadata": {},
     "output_type": "display_data"
    }
   ],
   "source": [
    "# 1)\n",
    "\n",
    "x = np.arange(-4.0,3.0,0.01)\n",
    "y = 4*x**3 + 10*x**2 - 20*x -10\n",
    "\n",
    "plt.plot(x,y)\n",
    "plt.plot(x,np.zeros(x.shape),'k--')\n",
    "plt.axis('tight')\n",
    "plt.show()"
   ]
  },
  {
   "cell_type": "code",
   "execution_count": 15,
   "metadata": {
    "collapsed": false
   },
   "outputs": [
    {
     "name": "stdout",
     "output_type": "stream",
     "text": [
      "[-3.6800000000000068, -0.4300000000000761, 1.5999999999998806]\n"
     ]
    }
   ],
   "source": [
    "sol = []\n",
    "\n",
    "for i in range(0,len(x)-1):\n",
    "    if y[i]*y[i+1] <= 0:\n",
    "        sol.append(x[i])\n",
    "        \n",
    "print(sol)"
   ]
  },
  {
   "cell_type": "code",
   "execution_count": 16,
   "metadata": {
    "collapsed": false
   },
   "outputs": [
    {
     "name": "stdout",
     "output_type": "stream",
     "text": [
      "[-3.67534358  1.60037444 -0.42503086]\n"
     ]
    }
   ],
   "source": [
    "# 2)\n",
    "\n",
    "f2 = [4,10,-20,-10]\n",
    "x = roots(f2)\n",
    "\n",
    "print(x)"
   ]
  },
  {
   "cell_type": "code",
   "execution_count": 17,
   "metadata": {
    "collapsed": false
   },
   "outputs": [
    {
     "name": "stdout",
     "output_type": "stream",
     "text": [
      "-5/6 - 85/(12*(-1/2 - sqrt(3)*I/2)*(305/8 + 15*sqrt(579)*I/4)**(1/3)) - (-1/2 - sqrt(3)*I/2)*(305/8 + 15*sqrt(579)*I/4)**(1/3)/3\n"
     ]
    }
   ],
   "source": [
    "from sympy.solvers import solve\n",
    "from sympy import Symbol\n",
    "\n",
    "# 3)\n",
    "x = Symbol('x')\n",
    "sol = solve(4*x**3 + 10*x**2 - 20*x - 10, x)\n",
    "\n",
    "print(sol[0]) # hard to read"
   ]
  },
  {
   "cell_type": "code",
   "execution_count": 18,
   "metadata": {
    "collapsed": false
   },
   "outputs": [
    {
     "name": "stdout",
     "output_type": "stream",
     "text": [
      "[-0.42503085522966266, 1.6003744359991185, -3.675343580769456]\n"
     ]
    }
   ],
   "source": [
    "def soltofloat(sol):\n",
    "    result = []\n",
    "    for i in range(0,len(sol)):\n",
    "        s = str(sol[i]).replace('I', '1j')\n",
    "        result.append(float(np.real(eval(s))))\n",
    "    return result\n",
    "\n",
    "print(soltofloat(sol))"
   ]
  },
  {
   "cell_type": "markdown",
   "metadata": {},
   "source": [
    "## Problem\n",
    "\n",
    "Run the following code which explains how to make a kind of animation effect in Python."
   ]
  },
  {
   "cell_type": "code",
   "execution_count": null,
   "metadata": {
    "collapsed": true
   },
   "outputs": [],
   "source": [
    "# this is an animation. \n",
    "# run it in a different python IDE, (for example, pyCharm).\n",
    "\n",
    "import numpy as np\n",
    "import matplotlib.pyplot as plt\n",
    "\n",
    "plt.axis([-1,1,-4,0.5])\n",
    "plt.ion()\n",
    "\n",
    "for x in np.arange(-1.0,1.0,0.05):\n",
    "    y = -4.0*x**2\n",
    "    plt.plot(x,y,'ks')\n",
    "    plt.pause(0.1)\n",
    "\n",
    "while True:\n",
    "    plt.pause(0.1)"
   ]
  },
  {
   "cell_type": "code",
   "execution_count": null,
   "metadata": {
    "collapsed": true
   },
   "outputs": [],
   "source": [
    "# this is an animation. \n",
    "# run it in a different python IDE, (for example, pyCharm).\n",
    "\n",
    "import numpy as np\n",
    "import matplotlib.pyplot as plt\n",
    "\n",
    "x = np.arange(0.0,2*np.pi,0.01)\n",
    "\n",
    "for i in range(1,11):\n",
    "    y = 1/i*np.sin(x)\n",
    "    plt.plot(x,y)\n",
    "    plt.xlim(0.0, 2 * np.pi)\n",
    "    plt.pause(0.5)\n",
    "\n",
    "while True:\n",
    "    plt.pause(0.5)"
   ]
  },
  {
   "cell_type": "markdown",
   "metadata": {},
   "source": [
    "## Problem\n",
    "\n",
    "Write a code to create a circle as shown in the below figure. (hint: there are many ways to realize this problem, but think about Euler’s formula (http://en.wikipedia.org/wiki/Euler's_formula))  "
   ]
  },
  {
   "cell_type": "code",
   "execution_count": 20,
   "metadata": {
    "collapsed": false
   },
   "outputs": [
    {
     "data": {
      "image/png": "[encoded data removed]",
      "text/plain": [
       "<matplotlib.figure.Figure at 0x2072cd752b0>"
      ]
     },
     "metadata": {},
     "output_type": "display_data"
    }
   ],
   "source": [
    "theta = np.arange(0.0,2*np.pi,0.01)\n",
    "\n",
    "x = np.cos(theta)\n",
    "y = np.sin(theta)\n",
    "\n",
    "plt.plot(x,y)\n",
    "plt.axis('equal')\n",
    "plt.show()"
   ]
  },
  {
   "cell_type": "code",
   "execution_count": 21,
   "metadata": {
    "collapsed": false
   },
   "outputs": [
    {
     "data": {
      "image/png": "[encoded data removed]",
      "text/plain": [
       "<matplotlib.figure.Figure at 0x2072dd81550>"
      ]
     },
     "metadata": {},
     "output_type": "display_data"
    }
   ],
   "source": [
    "theta = np.arange(0.0,2*np.pi,0.01)\n",
    "z = np.cos(theta) + 1j*sin(theta)\n",
    "\n",
    "plt.plot(np.real(z),np.imag(z))\n",
    "plt.axis('equal')\n",
    "plt.show()"
   ]
  },
  {
   "cell_type": "code",
   "execution_count": null,
   "metadata": {
    "collapsed": true
   },
   "outputs": [],
   "source": [
    "# this is an animation. \n",
    "# run it in a different python IDE, (for example, pyCharm).\n",
    "\n",
    "import numpy as np\n",
    "from matplotlib import pyplot as plt\n",
    "from matplotlib import animation\n",
    "\n",
    "fig = plt.figure()\n",
    "ax = plt.axes(xlim=(-2, 8), ylim=(-1, 1))\n",
    "ax.set_aspect('equal')\n",
    "circle, = ax.plot([], [], 'b')\n",
    "line, = ax.plot([], [], 'y')\n",
    "sinusoidal, = ax.plot([], [], 'r')\n",
    "point1, = ax.plot([], [], 'bo')\n",
    "point2, = ax.plot([], [], 'yo')\n",
    "point3, = ax.plot([], [], 'ro')\n",
    "\n",
    "frame = 200\n",
    "\n",
    "theta = np.linspace(0.0,2*np.pi,frame)\n",
    "z = np.cos(theta) + 1j*np.sin(theta)\n",
    "\n",
    "def init():\n",
    "    circle.set_data([], [])\n",
    "    line.set_data([], [])\n",
    "    sinusoidal.set_data([], [])\n",
    "    point1.set_data([], [])\n",
    "    point2.set_data([], [])\n",
    "    point3.set_data([], [])\n",
    "    return circle, line, sinusoidal, point1, point2, point3\n",
    "\n",
    "def animate(i):\n",
    "    global z\n",
    "    global theta\n",
    "    x = i * 2*np.pi/200.0\n",
    "    w = np.cos(x) + 1j*np.sin(x)\n",
    "    circle.set_data(np.real(z), np.imag(z))\n",
    "    line.set_data([1,1],[1,-1])\n",
    "    sinusoidal.set_data(theta, np.imag(z))\n",
    "    point1.set_data(np.real(w),np.imag(w))\n",
    "    point2.set_data(1, np.imag(w))\n",
    "    point3.set_data(x, np.imag(w))\n",
    "    return circle, line, sinusoidal, point1, point2, point3\n",
    "\n",
    "anim = animation.FuncAnimation(fig, animate, init_func=init,\n",
    "                               frames=frame, interval=20, blit=True)\n",
    "\n",
    "plt.show()"
   ]
  },
  {
   "cell_type": "markdown",
   "metadata": {},
   "source": [
    "## Problem\n",
    "\n",
    "Create an animation which the green dot is moving around the unit circle (counter clockwise). "
   ]
  },
  {
   "cell_type": "code",
   "execution_count": null,
   "metadata": {
    "collapsed": true
   },
   "outputs": [],
   "source": [
    "# this is an animation. \n",
    "# run it in a different python IDE, (for example, pyCharm).\n",
    "\n",
    "import numpy as np\n",
    "from matplotlib import pyplot as plt\n",
    "from matplotlib import animation\n",
    "\n",
    "fig = plt.figure()\n",
    "ax = plt.axes(xlim=(-5, 5), ylim=(-1, 1))\n",
    "ax.set_aspect('equal')\n",
    "circle, = ax.plot([], [], 'b')\n",
    "point1, = ax.plot([], [], 'go')\n",
    "\n",
    "frame = 200\n",
    "\n",
    "theta = np.linspace(0.0,2*np.pi,frame)\n",
    "z = np.cos(theta) + 1j*np.sin(theta)\n",
    "\n",
    "def init():\n",
    "    circle.set_data([], [])\n",
    "    point1.set_data([], [])\n",
    "    return circle, point1\n",
    "\n",
    "def animate(i):\n",
    "    global z\n",
    "    x = i * 2*np.pi/200.0\n",
    "    w = np.cos(x) + 1j*np.sin(x)\n",
    "    circle.set_data(np.real(z), np.imag(z))\n",
    "    point1.set_data(np.real(w),np.imag(w))\n",
    "    return circle, point1\n",
    "\n",
    "anim = animation.FuncAnimation(fig, animate, init_func=init,\n",
    "                               frames=frame, interval=20, blit=True)\n",
    "\n",
    "plt.show()"
   ]
  },
  {
   "cell_type": "code",
   "execution_count": null,
   "metadata": {
    "collapsed": true
   },
   "outputs": [],
   "source": [
    "# this is an animation. \n",
    "# run it in a different python IDE, (for example, pyCharm).\n",
    "\n",
    "import numpy as np\n",
    "from matplotlib import pyplot as plt\n",
    "from matplotlib import animation\n",
    "\n",
    "fig = plt.figure()\n",
    "ax = plt.axes(xlim=(-5, 5), ylim=(-1, 1))\n",
    "ax.set_aspect('equal')\n",
    "circle, = ax.plot([], [], 'b')\n",
    "trajectory, = ax.plot([], [], 'y')\n",
    "point1, = ax.plot([], [], 'go')\n",
    "\n",
    "frame = 200\n",
    "\n",
    "theta = np.linspace(0.0,2*np.pi,frame)\n",
    "z = np.cos(theta) + 1j*np.sin(theta)\n",
    "\n",
    "def init():\n",
    "    circle.set_data([], [])\n",
    "    trajectory.set_data([], [])\n",
    "    point1.set_data([], [])\n",
    "    return circle, trajectory, point1\n",
    "\n",
    "def animate(i):\n",
    "    global z\n",
    "    x = i * 2*np.pi/200.0\n",
    "    w = np.cos(x) + 1j*np.sin(x)\n",
    "    circle.set_data(np.real(z[i:199]), np.imag(z[i:199]))\n",
    "    trajectory.set_data(np.real(z[0:i]), np.imag(z[0:i]))\n",
    "    point1.set_data(np.real(w),np.imag(w))\n",
    "    return circle, trajectory, point1\n",
    "\n",
    "anim = animation.FuncAnimation(fig, animate, init_func=init,\n",
    "                               frames=frame, interval=20, blit=True)\n",
    "\n",
    "plt.show()"
   ]
  },
  {
   "cell_type": "markdown",
   "metadata": {},
   "source": [
    "## Problem\n",
    "\n",
    "We want to explore a cycloid (refer to http://en.wikipedia.org/wiki/Cycloid for more information). A cycloid is the curve traced by a point on the rim of a circular wheel as the wheel rolls along a straight line.\n",
    "\n",
    "<img src=\"./image_files/cycloid.png\" width = 300>\n",
    "\n",
    "1) Create a code to plot the cycloid trajectory. Remember there are many ways to do it.  \n",
    "\n",
    "2) Create a code to animate a cycloid by a rolling unit circle. "
   ]
  },
  {
   "cell_type": "code",
   "execution_count": 22,
   "metadata": {
    "collapsed": false
   },
   "outputs": [
    {
     "data": {
      "image/png": "[encoded data removed]",
      "text/plain": [
       "<matplotlib.figure.Figure at 0x2072be69be0>"
      ]
     },
     "metadata": {},
     "output_type": "display_data"
    }
   ],
   "source": [
    "theta = np.arange(-np.pi/2,5/2*np.pi,0.01)\n",
    "\n",
    "x = theta - np.sin(theta)\n",
    "y = 1 - np.cos(theta)\n",
    "\n",
    "plt.plot(x,y)\n",
    "plt.axis('equal')\n",
    "plt.xlim([x[0],x[len(theta)-1]])\n",
    "plt.show()"
   ]
  },
  {
   "cell_type": "code",
   "execution_count": 23,
   "metadata": {
    "collapsed": false
   },
   "outputs": [
    {
     "data": {
      "image/png": "[encoded data removed]",
      "text/plain": [
       "<matplotlib.figure.Figure at 0x20729f2a5c0>"
      ]
     },
     "metadata": {},
     "output_type": "display_data"
    }
   ],
   "source": [
    "theta = np.arange(-np.pi/2,5/2*np.pi,0.01)\n",
    "\n",
    "z = theta + 1j - np.sin(theta) - 1j*np.cos(theta)\n",
    "\n",
    "plt.plot(np.real(z),np.imag(z))\n",
    "plt.axis('equal')\n",
    "plt.xlim([np.real(z[0]),np.real(z[len(z)-1])])\n",
    "plt.show()"
   ]
  },
  {
   "cell_type": "code",
   "execution_count": 24,
   "metadata": {
    "collapsed": false
   },
   "outputs": [
    {
     "data": {
      "image/png": "[encoded data removed]",
      "text/plain": [
       "<matplotlib.figure.Figure at 0x20729f56f98>"
      ]
     },
     "metadata": {},
     "output_type": "display_data"
    }
   ],
   "source": [
    "theta = np.arange(0.0,2*np.pi,0.01)\n",
    "\n",
    "z = theta + 1j + np.exp(1j*(3*np.pi/2-theta))\n",
    "\n",
    "plt.plot(np.real(z),np.imag(z))\n",
    "plt.axis('equal')\n",
    "plt.xlim([np.real(z[0]),np.real(z[len(z)-1])])\n",
    "plt.show()"
   ]
  },
  {
   "cell_type": "code",
   "execution_count": null,
   "metadata": {
    "collapsed": true
   },
   "outputs": [],
   "source": [
    "# this is an animation. \n",
    "# run it in a different python IDE, (for example, pyCharm).\n",
    "\n",
    "import numpy as np\n",
    "from matplotlib import pyplot as plt\n",
    "from matplotlib import animation\n",
    "\n",
    "fig = plt.figure()\n",
    "ax = plt.axes(xlim=(-5, 10), ylim=(-1, 3))\n",
    "ax.set_aspect('equal')\n",
    "line, = ax.plot([], [], 'k')\n",
    "circle, = ax.plot([], [], 'b')\n",
    "trajectory, = ax.plot([], [], 'r--')\n",
    "point1, = ax.plot([], [], 'go')\n",
    "\n",
    "frame = 200\n",
    "\n",
    "theta = np.linspace(0.0,2*np.pi,frame)\n",
    "z = theta + 1j + np.exp(1j*(3*np.pi/2-theta))\n",
    "c = 1j + np.exp(1j*theta)\n",
    "\n",
    "def init():\n",
    "    line.set_data([], [])\n",
    "    circle.set_data([], [])\n",
    "    trajectory.set_data([], [])\n",
    "    point1.set_data([], [])\n",
    "    return line, circle, trajectory, point1\n",
    "\n",
    "def animate(i):\n",
    "    global z, c, frame\n",
    "    theta = i*2*np.pi/frame\n",
    "    w = theta + 1j + np.exp(1j*(3*np.pi/2-theta))\n",
    "    line.set_data([-1,2*np.pi+1],[0,0])\n",
    "    circle.set_data(theta + np.real(c),np.imag(c))\n",
    "    trajectory.set_data(np.real(z),np.imag(z))\n",
    "    point1.set_data(np.real(w),np.imag(w))\n",
    "    return line, circle, trajectory, point1\n",
    "\n",
    "anim = animation.FuncAnimation(fig, animate, init_func=init,\n",
    "                               frames=frame, interval=20, blit=True)\n",
    "\n",
    "plt.show()"
   ]
  },
  {
   "cell_type": "markdown",
   "metadata": {},
   "source": [
    "## Problem \n",
    "\n",
    "Let's try more complicated one, hypotrochoid (http://en.wikipedia.org/wiki/Hypotrochoid).\n",
    "\n",
    "<img src=\"./image_files/hypotrochoid.png\" width = 300>\n",
    "\n",
    "1) Write a code to plot the cycloid trajectory with $r = 0.1, 0.2, 0.3, \\cdots,0.9$ \n",
    "\n",
    "2) Animate the hypotrochoid with two circles (unit circle and circle with radius $r$ ) "
   ]
  },
  {
   "cell_type": "code",
   "execution_count": 2,
   "metadata": {
    "collapsed": false
   },
   "outputs": [
    {
     "data": {
      "image/png": "[encoded data removed]",
      "text/plain": [
       "<matplotlib.figure.Figure at 0x27320511dd8>"
      ]
     },
     "metadata": {},
     "output_type": "display_data"
    }
   ],
   "source": [
    "theta = np.arange(0.0,2*np.pi,0.01)\n",
    "\n",
    "c = np.exp(1j*theta)\n",
    "r = 0.2\n",
    "beta = 2*np.pi + theta*(1-1/r)\n",
    "z = (1-r)*np.exp(1j*theta) + r*np.exp(1j*beta)\n",
    "\n",
    "plt.plot(np.real(c),np.imag(c))\n",
    "plt.plot(np.real(z),np.imag(z))\n",
    "plt.axis('equal')\n",
    "plt.show()"
   ]
  },
  {
   "cell_type": "code",
   "execution_count": null,
   "metadata": {
    "collapsed": true
   },
   "outputs": [],
   "source": [
    "# this is an animation. \n",
    "# run it in a different python IDE, (for example, pyCharm).\n",
    "\n",
    "import numpy as np\n",
    "from matplotlib import pyplot as plt\n",
    "from matplotlib import animation\n",
    "\n",
    "fig = plt.figure()\n",
    "ax = plt.axes(xlim=(-5, 5), ylim=(-1, 1))\n",
    "ax.set_aspect('equal')\n",
    "circle1, = ax.plot([], [], 'k')\n",
    "circle2, = ax.plot([], [], 'r')\n",
    "trajectory, = ax.plot([], [], 'b')\n",
    "point1, = ax.plot([], [], 'go')\n",
    "\n",
    "frame = 200\n",
    "\n",
    "k = 4*np.pi\n",
    "\n",
    "r = 0.4\n",
    "theta = np.linspace(0.0,k,frame)\n",
    "beta = 2*np.pi + theta*(1-1/r)\n",
    "c = np.exp(1j*theta)\n",
    "z = (1-r)*np.exp(1j*theta) + r*np.exp(1j*beta)\n",
    "\n",
    "def init():\n",
    "    circle1.set_data([], [])\n",
    "    circle2.set_data([], [])\n",
    "    trajectory.set_data([], [])\n",
    "    point1.set_data([], [])\n",
    "    return circle1, circle2, trajectory, point1\n",
    "\n",
    "def animate(i):\n",
    "    global c, z, frame\n",
    "    x = i*k/frame\n",
    "    c2 = (1-r)*np.exp(1j*x) + r*np.exp(1j*theta)\n",
    "    w = (1-r)*np.exp(1j*x) + r*np.exp(1j*(2*np.pi + x*(1-1/r)))\n",
    "    circle1.set_data(np.real(c),np.imag(c))\n",
    "    circle2.set_data(np.real(c2),np.imag(c2))\n",
    "    trajectory.set_data(np.real(z),np.imag(z))\n",
    "    point1.set_data(np.real(w),np.imag(w))\n",
    "    return circle1, circle2, trajectory, point1\n",
    "\n",
    "anim = animation.FuncAnimation(fig, animate, init_func=init,\n",
    "                               frames=frame, interval=20, blit=True)\n",
    "\n",
    "plt.show()"
   ]
  },
  {
   "cell_type": "markdown",
   "metadata": {},
   "source": [
    "## Problem\n",
    "\n",
    "We want to numerically compute \n",
    "$\\pi$ in various ways. Utilize the following equations to write codes. For your reference, the website (http://en.wikipedia.org/wiki/Pi) provides thoughtful backgrounds of how to compute $\\pi$.\n",
    "\n",
    "1) $\\int^\\infty_{-\\infty} \\frac{1}{1+x^2} dx = \\pi$\n",
    "\n",
    "2) $\\frac{2}{\\pi} = \\frac{\\sqrt{2}}{2} \\cdot \\frac{\\sqrt{2+\\sqrt{2}}}{2} \\cdot \\frac{\\sqrt{2+\\sqrt{2+\\sqrt{2}}}}{2} \\cdots$\n",
    "\n",
    "3) $\\pi = \\frac{4}{1} - \\frac{4}{3} + \\frac{4}{5} - \\frac{4}{7} + \\frac{4}{9} - \\frac{4}{11} + \\cdots$"
   ]
  },
  {
   "cell_type": "code",
   "execution_count": 25,
   "metadata": {
    "collapsed": false
   },
   "outputs": [
    {
     "name": "stdout",
     "output_type": "stream",
     "text": [
      "3.14139265352\n"
     ]
    }
   ],
   "source": [
    "n = 10000.0\n",
    "dx = 0.01\n",
    "x = np.arange(-n,n,dx)\n",
    "\n",
    "temp_sum = 0\n",
    "for i in range(0,len(x)):\n",
    "    temp_sum += dx*(1/(x[i]**2+1))\n",
    "\n",
    "print(temp_sum)"
   ]
  },
  {
   "cell_type": "code",
   "execution_count": 26,
   "metadata": {
    "collapsed": false
   },
   "outputs": [
    {
     "name": "stdout",
     "output_type": "stream",
     "text": [
      "3.14159142151\n"
     ]
    }
   ],
   "source": [
    "r = 0.0\n",
    "temp_prod = 1.0\n",
    "\n",
    "for i in range(0, 10):\n",
    "    r = np.sqrt(2+r)\n",
    "    temp_prod *= r/2\n",
    "    \n",
    "print(2/temp_prod)"
   ]
  },
  {
   "cell_type": "code",
   "execution_count": 27,
   "metadata": {
    "collapsed": false
   },
   "outputs": [
    {
     "name": "stdout",
     "output_type": "stream",
     "text": [
      "3.14139265359\n"
     ]
    }
   ],
   "source": [
    "n = 10000\n",
    "x = np.arange(1, n, 2)\n",
    "\n",
    "temp_sum = 0\n",
    "for i in range(0,len(x)):\n",
    "    temp_sum = temp_sum + (-1)**i*4/x[i]\n",
    "\n",
    "print(temp_sum)"
   ]
  },
  {
   "cell_type": "markdown",
   "metadata": {},
   "source": [
    "## Problem\n",
    "\n",
    "In this problem, we still want to calculate $\\pi$ , but it will be a totally different approach, Monte Carlo (MC) methods (probabilistic interpretation). Read the section of the introduction part in the Wikipedia (http://en.wikipedia.org/wiki/Monte_Carlo_method) to understand a fundamental concept of Monte Carlo. Try to understand MC with the given code.\n",
    "\n",
    "1) Draw a square on the ground, then inscribe a circle within it.\n",
    "\n",
    "2) Uniformly scatter some objects of uniform size (grains of rice or sand) over the square.\n",
    "\n",
    "3) Count the number of objects inside the circle and the total number of objects. The ratio of the two counts is an estimate of the ratio of the two areas, which is $\\pi$/4.  \n",
    "\n",
    "4) Multiply the result by 4 to estimate $\\pi$. "
   ]
  },
  {
   "cell_type": "code",
   "execution_count": 28,
   "metadata": {
    "collapsed": false
   },
   "outputs": [
    {
     "name": "stdout",
     "output_type": "stream",
     "text": [
      "3.1416\n"
     ]
    },
    {
     "data": {
      "image/png": "[encoded data removed]",
      "text/plain": [
       "<matplotlib.figure.Figure at 0x20729f73710>"
      ]
     },
     "metadata": {},
     "output_type": "display_data"
    }
   ],
   "source": [
    "n = 10000\n",
    "x = -1 + 2*np.random.rand(n,2)\n",
    "count = 0\n",
    "for j in range(0,n):\n",
    "    if np.linalg.norm(x[j,:]) <= 1 :\n",
    "        count = count + 1\n",
    "\n",
    "pi_est = (count/n)*4\n",
    "print(pi_est)\n",
    "\n",
    "# visualize\n",
    "w = np.arange(0.0,2*np.pi,0.01)\n",
    "z = np.cos(w) + 1j*np.sin(w)\n",
    "\n",
    "\n",
    "plt.plot(x[:,0],x[:,1],'bo',ms = 1)\n",
    "plt.plot(np.real(z),np.imag(z),'r',lw=3)\n",
    "plt.axis('equal')\n",
    "plt.show()"
   ]
  }
 ],
 "metadata": {
  "anaconda-cloud": {},
  "kernelspec": {
   "display_name": "Python 3",
   "language": "python",
   "name": "python3"
  },
  "language_info": {
   "codemirror_mode": {
    "name": "ipython",
    "version": 3
   },
   "file_extension": ".py",
   "mimetype": "text/x-python",
   "name": "python",
   "nbconvert_exporter": "python",
   "pygments_lexer": "ipython3",
   "version": "3.5.2"
  }
 },
 "nbformat": 4,
 "nbformat_minor": 0
}
