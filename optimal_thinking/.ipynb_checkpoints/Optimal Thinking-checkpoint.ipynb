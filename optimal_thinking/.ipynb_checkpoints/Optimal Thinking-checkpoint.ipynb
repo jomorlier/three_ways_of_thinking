{
 "cells": [
  {
   "cell_type": "markdown",
   "metadata": {},
   "source": [
    "Table of Contents\n",
    "<div id=\"toc\"></div>"
   ]
  },
  {
   "cell_type": "markdown",
   "metadata": {},
   "source": [
    "# Optimization\n",
    "\n",
    "- an important tool in 1) engineering problem solving and 2) decision science\n",
    "- peolple optimize\n",
    "- nature optimizes\n",
    "\n",
    "3 key components\n",
    "1. objective\n",
    "2. decision variable or unknown\n",
    "3. constraints\n",
    "\n",
    "Procedures\n",
    "1. The process of identifying objective, variables, and constraints for a given problem is known as \"modeling\"\n",
    "2. Once the model has been formulated, optimization algorithm can be used to find its solutions.\n",
    "\n",
    "In mathematical expression\n",
    "\n",
    "$$\\begin{align*}\n",
    "\\min_{x} \\quad &f(x) \\\\\n",
    "\\text{subject to} \\quad &g_i(x) \\leq 0, \\qquad i=1,\\cdots,m\n",
    "\\end{align*}\n",
    "$$\n",
    "\n",
    "Remarks) equivalent\n",
    "\n",
    "$$\\begin{align*}\n",
    "\\min_{x}  f(x) \\quad&\\leftrightarrow \\quad \\max_{x} -f(x)\\\\\n",
    "\\quad g_i(x) \\leq 0\\quad&\\leftrightarrow \\quad -g_i(x) \\geq 0\\\\\n",
    "h(x) = 0 \\quad&\\leftrightarrow \\quad \n",
    "\\begin{cases}\n",
    "  h(x) \\leq 0 \\quad \\text{and} \\\\\n",
    "  h(x) \\geq 0 \n",
    "\\end{cases}\n",
    "\\end{align*}\n",
    "$$"
   ]
  },
  {
   "cell_type": "markdown",
   "metadata": {},
   "source": [
    "## Modeling Example\n",
    "\n",
    "Manufacturer produces two products P and Q with machine A or B. \n",
    "\n",
    "time of producing each unit of P\n",
    "- in machine A: 50 min\n",
    "- in machine B: 30 min\n",
    "\n",
    "time of producing each unit of Q\n",
    "- in machine A: 24 min\n",
    "- in machine B: 33 min\n",
    "\n",
    "working plan for a week \n",
    "$\\begin{cases}\n",
    "  \\text{40 hrs of work on machine A} \\\\\n",
    "  \\text{35 hrs of work on mahcine B} \n",
    "\\end{cases}$\n",
    "\n",
    "The week starts with\n",
    "$\\begin{cases}\n",
    "  \\text{stock of 30 units of P} \\\\\n",
    "  \\text{stock of 90 units of Q} \\\\\n",
    "  \\text{demand of 75 units of P} \\\\\n",
    "  \\text{demand of 95 units of P} \\\\\n",
    "\\end{cases}$\n",
    "\n",
    "Question: how to plan the production to end the week with the maximum stock?\n",
    "\n",
    "Define decision variables\n",
    "- $x$ = unit of P to be produced\n",
    "- $y$ = unit of Q to be produced\n",
    "\n",
    "$$\\begin{align*}\n",
    "\\max_{x} \\quad & (30+x-75)+(90+y-95) \\\\\n",
    "\\text{subject to} \\quad & 50x+24y \\leq 40 \\times 60\\\\\n",
    "& 30x + 33y  \\leq 35 \\times 60\\\\\n",
    "& x \\leq 75-30\\\\\n",
    "& y  \\leq 95-90\n",
    "\\end{align*}\n",
    "$$"
   ]
  },
  {
   "cell_type": "markdown",
   "metadata": {},
   "source": [
    "## General or Standard Forms\n",
    "1. Linear programming\n",
    "$$\\begin{align*}\n",
    "\\min_{x} \\quad & f^Tx \\\\\n",
    "\\text{subject to} \\quad \n",
    "& Ax \\leq b\\\\\n",
    "& A_{eq}x \\leq b_{eq}\\\\\n",
    "& LB \\leq x \\leq UB\n",
    "\\end{align*}\n",
    "$$\n",
    "\n",
    "2. Integer programming\n",
    "$$\\begin{align*}\n",
    "\\min_{x} \\quad & f^Tx \\\\\n",
    "\\text{subject to} \\quad\n",
    "& Ax \\leq b\\\\\n",
    "& A_{eq}x \\leq b_{eq}\\\\\n",
    "& LB \\leq x \\leq UB\\\\\n",
    "& x \\in \\mathbb{Z} \\text{(integer)}\n",
    "\\end{align*}\n",
    "$$\n",
    "\n",
    "3. Mixed integer linear programming\n",
    "$$\\begin{align*}\n",
    "\\min_{x,z} \\quad & f^T\n",
    "\\begin{bmatrix} x \\\\ z \\end{bmatrix} \\\\\n",
    "\\text{subject to} \\quad\n",
    "& A \\begin{bmatrix} x \\\\ z \\end{bmatrix} \\leq b \\\\\n",
    "& A_{eq} \\begin{bmatrix} x \\\\ z \\end{bmatrix} = b_{eq}\\\\\n",
    "& LB \\leq \\begin{bmatrix} x \\\\ z \\end{bmatrix} \\leq UB \\\\\n",
    "& x \\in \\mathbb{R} \\text{(real)} \\\\\n",
    "& z \\in \\mathbb{Z}\n",
    "\\end{align*}\n",
    "$$\n",
    "\n",
    "4. Binary integer programming\n",
    "$$\\begin{align*}\n",
    "\\min_{x} \\quad & f^Tx \\\\\n",
    "\\text{subject to} \\quad\n",
    "& Ax \\leq b \\\\\n",
    "& A_{eq}x = b_{eq} \\\\\n",
    "& LB \\leq x \\leq UB \\\\\n",
    "& x \\in \\{0,1\\} \n",
    "\\end{align*}\n",
    "$$\n",
    "\n",
    "5. Quadratic programming\n",
    "$$\\begin{align*}\n",
    "\\min_{x} \\quad & \\frac{1}{2}x^THx + f^Tx \\\\\n",
    "\\text{subject to} \\quad\n",
    "& Ax \\leq b \\\\\n",
    "& A_{eq}x = b_{eq} \\\\\n",
    "& LB \\leq x \\leq UB\n",
    "\\end{align*}\n",
    "$$\n",
    "\n",
    "\n"
   ]
  },
  {
   "cell_type": "markdown",
   "metadata": {},
   "source": [
    "# Linear Programming (LP)\n",
    "---"
   ]
  },
  {
   "cell_type": "markdown",
   "metadata": {},
   "source": [
    "**LP Example 1**\n",
    "\n",
    "$$\\begin{align*}\n",
    "\\max_{x} \\quad & x_1 + x_2 \\\\\n",
    "\\text{subject to} \\quad\n",
    "& 2x_1 + x_2 \\leq 29 \\\\\n",
    "& x_1 + 2x_2 \\leq 25 \\\\\n",
    "& x_1 \\geq 2 \\\\\n",
    "& x_2 \\geq 5\n",
    "\\end{align*}\n",
    "$$\n",
    "\n",
    "\n",
    "$$\\begin{align*}\n",
    "\\Rightarrow \\quad min_{x} \\quad & - \\begin{bmatrix} 1 & 1 \\end{bmatrix} \\begin{bmatrix} x_1 \\\\ x_2 \\end{bmatrix} \\\\\n",
    "\\text{subject to} \\quad\n",
    "& \\begin{bmatrix} 2 & 1 \\\\ 1 & 2 \\end{bmatrix} \\begin{bmatrix} x_1 \\\\ x_2 \\end{bmatrix} \\leq \\begin{bmatrix} 29 \\\\ 25 \\end{bmatrix} \\\\\n",
    "& \\begin{bmatrix} 2 \\\\ 5 \\end{bmatrix} \\leq \\begin{bmatrix} x_1 \\\\ x_2 \\end{bmatrix} \\leq \\begin{bmatrix}  \\\\ \\\\ \\end{bmatrix}\n",
    "\\end{align*}\n",
    "$$"
   ]
  },
  {
   "cell_type": "code",
   "execution_count": 1,
   "metadata": {
    "collapsed": false
   },
   "outputs": [
    {
     "data": {
      "text/plain": [
       "Optimization terminated.\r\n",
       "\r\n",
       "ans =\r\n",
       "\r\n",
       "   11.0000\r\n",
       "    7.0000"
      ]
     },
     "execution_count": 1,
     "metadata": {},
     "output_type": "execute_result"
    }
   ],
   "source": [
    "f = -[1 1]';\n",
    "A = [2 1;\n",
    "    1 2];\n",
    "b = [29,25]';\n",
    "lb = [2 5];\n",
    "\n",
    "linprog(f,A,b,[],[],lb,[])"
   ]
  },
  {
   "cell_type": "markdown",
   "metadata": {},
   "source": [
    "**LP example 2**\n",
    "\n",
    "$$\\begin{align*}\n",
    "\\min_{x} \\quad & x_1 + x_2 + x_3 + x_4 + x_5 \\\\\n",
    "\\text{subject to} \\quad\n",
    "& x_1 + x_2 = 100 \\\\\n",
    "& x_3 + x_4 = 70 \\\\\n",
    "& x_2 + x_3 + 2x_4 + 5x_5 = 250 \\\\\n",
    "& x_{i} \\geq 0 \\quad (i = 1,2,\\cdots,5)\n",
    "\\end{align*}\n",
    "$$"
   ]
  },
  {
   "cell_type": "markdown",
   "metadata": {},
   "source": [
    "$$\\begin{align*}\n",
    "\\Rightarrow \\quad \\min_{x} \\quad\n",
    "& -\\begin{bmatrix} 1 & 1 & 1 & 1 & 1 \\end{bmatrix}\n",
    "\\begin{bmatrix} x_1 \\\\ x_2 \\\\ x_3 \\\\ x_4 \\\\ x_5 \\end{bmatrix} \\\\\n",
    "\\text{subject to} \\quad\n",
    "& \\begin{bmatrix} 1 & 1 & 0 & 0 & 0 \\\\\n",
    "0 & 0 & 1 & 1 & 0 \\\\\n",
    "0 & 1 & 1 & 2 & 5 \\end{bmatrix}\n",
    "\\begin{bmatrix} x_1 \\\\ x_2 \\\\ x_3 \\\\ x_4 \\\\ x_5 \\end{bmatrix} =\n",
    "\\begin{bmatrix} 100 \\\\ 70 \\\\ 250 \\end{bmatrix} \\\\\n",
    "& \\begin{bmatrix} 0 \\\\ 0 \\\\ 0 \\\\ 0 \\\\ 0 \\end{bmatrix} \\leq\n",
    "\\begin{bmatrix} x_1 \\\\ x_2 \\\\ x_3 \\\\ x_4 \\\\ x_5 \\end{bmatrix} \\leq\n",
    "\\begin{bmatrix} \\\\ \\\\ \\\\ \\\\ \\\\ \\end{bmatrix}\n",
    "\\end{align*}\n",
    "$$"
   ]
  },
  {
   "cell_type": "code",
   "execution_count": 2,
   "metadata": {
    "collapsed": false
   },
   "outputs": [
    {
     "data": {
      "text/plain": [
       "Optimization terminated.\r\n",
       "\r\n",
       "ans =\r\n",
       "\r\n",
       "  100.0000\r\n",
       "    0.0000\r\n",
       "   70.0000\r\n",
       "    0.0000\r\n",
       "   36.0000"
      ]
     },
     "execution_count": 2,
     "metadata": {},
     "output_type": "execute_result"
    }
   ],
   "source": [
    "f = -[1 1 1 1 1]';\n",
    "Aeq = [1 1 0 0 0;\n",
    "    0 0 1 1 0;\n",
    "    0 1 1 2 5];\n",
    "beq = [100 70 250]';\n",
    "lb = [0 0 0 0 0]';\n",
    "\n",
    "linprog(f,[],[],Aeq,beq,lb,[])"
   ]
  },
  {
   "cell_type": "markdown",
   "metadata": {},
   "source": [
    "**LP example 3**"
   ]
  },
  {
   "cell_type": "code",
   "execution_count": 3,
   "metadata": {
    "collapsed": false
   },
   "outputs": [
    {
     "data": {
      "text/plain": [
       "Optimization terminated.\r\n",
       "\r\n",
       "x =\r\n",
       "\r\n",
       "   -2.8134\r\n",
       "    4.4821\r\n",
       "\r\n",
       "\r\n",
       "d =\r\n",
       "\r\n",
       "    0.0600\r\n",
       "\r\n",
       "\r\n",
       "n =\r\n",
       "\r\n",
       "   88.4194"
      ]
     },
     "execution_count": 3,
     "metadata": {},
     "output_type": "execute_result"
    }
   ],
   "source": [
    "f = -[1 1]';\n",
    "A = [2 1];\n",
    "b = log(0.25) - log(pi) + 2*log(2);\n",
    "lb = [log(0.06) 0]';\n",
    "\n",
    "x = linprog(f,A,b,[],[],lb,[])\n",
    "\n",
    "d = exp(x(1))\n",
    "n = exp(x(2))"
   ]
  },
  {
   "cell_type": "markdown",
   "metadata": {},
   "source": [
    "# Mixed Integer Linear Programming (MILP)\n",
    "---\n",
    "- Matlab command: intlinprog (available from MATLAB R2014b)"
   ]
  },
  {
   "cell_type": "code",
   "execution_count": 4,
   "metadata": {
    "collapsed": false
   },
   "outputs": [
    {
     "data": {
      "text/plain": [
       "INTLINPROG Mixed integer linear programming.\r\n",
       " \r\n",
       "    X = INTLINPROG(f,intcon,A,b) attempts to solve problems of the form\r\n",
       " \r\n",
       "             min f'*x    subject to:  A*x  <= b\r\n",
       "              x                       Aeq*x = beq\r\n",
       "                                      lb <= x <= ub\r\n",
       "                                      x(i) integer, where i is in the index\r\n",
       "                                      vector intcon (integer constraints)\r\n",
       " \r\n",
       "    X = INTLINPROG(f,intcon,A,b) solves the problem with integer variables\r\n",
       "    in the intcon vector and linear inequality constraints A*x <= b. intcon\r\n",
       "    is a vector of positive integers indicating components of the solution\r\n",
       "    X that must be integers. For example, if you want to constrain X(2) and\r\n",
       "    X(10) to be integers, set intcon to [2,10].\r\n",
       " \r\n",
       "    X = INTLINPROG(f,intcon,A,b,Aeq,beq) solves the problem above while\r\n",
       "    additionally satisfying the equality constraints Aeq*x = beq.\r\n",
       " \r\n",
       "    X = INTLINPROG(f,intcon,A,b,Aeq,beq,LB,UB) defines a set of lower and\r\n",
       "    upper bounds on the design variables, X, so that the solution is in the\r\n",
       "    range LB <= X <= UB. Use empty matrices for LB and UB if no bounds\r\n",
       "    exist. Set LB(i) = -Inf if X(i) is unbounded below; set UB(i) = Inf if\r\n",
       "    X(i) is unbounded above.\r\n",
       " \r\n",
       "    X = INTLINPROG(f,intcon,A,b,Aeq,beq,LB,UB,OPTIONS) minimizes with the\r\n",
       "    default optimization parameters replaced by values in OPTIONS, an\r\n",
       "    argument created with the OPTIMOPTIONS function. See OPTIMOPTIONS for\r\n",
       "    details.\r\n",
       " \r\n",
       "    X = INTLINPROG(PROBLEM) finds the minimum for PROBLEM. PROBLEM is a\r\n",
       "    structure with the vector 'f' in PROBLEM.f, the integer constraints in\r\n",
       "    PROBLEM.intcon, the linear inequality constraints in PROBLEM.Aineq and\r\n",
       "    PROBLEM.bineq, the linear equality constraints in PROBLEM.Aeq and\r\n",
       "    PROBLEM.beq, the lower bounds in PROBLEM.lb, the upper bounds in\r\n",
       "    PROBLEM.ub, the options structure in PROBLEM.options, and solver name\r\n",
       "    'intlinprog' in PROBLEM.solver.\r\n",
       " \r\n",
       "    [X,FVAL] = INTLINPROG(f,intcon,A,b,...) returns the value of the\r\n",
       "    objective function at X: FVAL = f'*X.\r\n",
       " \r\n",
       "    [X,FVAL,EXITFLAG] = INTLINPROG(f,intcon,A,b,...) returns an EXITFLAG\r\n",
       "    that describes the exit condition of INTLINPROG. Possible values of\r\n",
       "    EXITFLAG and the corresponding exit conditions are\r\n",
       " \r\n",
       "      2  Solver stopped prematurely. Integer feasible point found.\r\n",
       "      1  Optimal solution found.\r\n",
       "      0  Solver stopped prematurely. No integer feasible point found.\r\n",
       "     -2  No feasible point found.\r\n",
       "     -3  Root LP problem is unbounded.\r\n",
       " \r\n",
       "    [X,FVAL,EXITFLAG,OUTPUT] = INTLINPROG(f,A,b,...) returns a structure\r\n",
       "    OUTPUT containing information about the optimization process. OUTPUT\r\n",
       "    includes the number of integer feasible points found and the final gap\r\n",
       "    between internally calculated bounds on the solution. See the\r\n",
       "    documentation for a complete description.\r\n",
       " \r\n",
       "    See also LINPROG.\r\n",
       "\r\n",
       "    Reference page in Help browser\r\n",
       "       doc intlinprog"
      ]
     },
     "execution_count": 4,
     "metadata": {},
     "output_type": "execute_result"
    }
   ],
   "source": [
    "help intlinprog"
   ]
  },
  {
   "cell_type": "markdown",
   "metadata": {},
   "source": [
    "** MILP Example 1**\n",
    "\n",
    "$$\\begin{align*}\n",
    "\\min_{x} \\quad\n",
    "& \\begin{bmatrix} -3 & -1 \\end{bmatrix} \\begin{bmatrix} x_1 \\\\ x_2 \\end{bmatrix} \\\\\n",
    "\\text{subject to} \\quad\n",
    "& \\begin{bmatrix} 17 & 11 \\end{bmatrix} \\begin{bmatrix} x_1 \\\\ x_2 \\end{bmatrix} \\leq 83 \\\\\n",
    "& \\begin{bmatrix} 0 \\\\ 0 \\end{bmatrix} \\leq\n",
    "\\begin{bmatrix} x_1 \\\\ x_2 \\end{bmatrix} \\leq\n",
    "\\begin{bmatrix} 3 \\\\ 7 \\end{bmatrix} \\\\\n",
    "& x_1, x_2 \\in \\mathbb{Z} \\; \\text{(integer)}\n",
    "\\end{align*}\n",
    "$$"
   ]
  },
  {
   "cell_type": "code",
   "execution_count": 5,
   "metadata": {
    "collapsed": false
   },
   "outputs": [
    {
     "data": {
      "text/plain": [
       "LP:                Optimal objective value is -11.909091.                                           \r\n",
       "\r\n",
       "Cut Generation:    Applied 1 Gomory cut.                                                            \r\n",
       "                   Lower bound is -11.000000.                                                       \r\n",
       "                   Relative gap is 0.00%.                                                          \r\n",
       "\r\n",
       "\r\n",
       "Optimal solution found.\r\n",
       "\r\n",
       "Intlinprog stopped at the root node because the objective value is within a gap tolerance of the optimal value, options.TolGapAbs = 0\r\n",
       "(the default value). The intcon variables are integer within tolerance, options.TolInteger = 1e-05 (the default value).\r\n",
       "\r\n",
       "\r\n",
       "x =\r\n",
       "\r\n",
       "    3.0000\r\n",
       "    2.0000"
      ]
     },
     "execution_count": 5,
     "metadata": {},
     "output_type": "execute_result"
    }
   ],
   "source": [
    "f = [-3 -1]';\n",
    "intcon = 1:2;\n",
    "A = [17 11];\n",
    "b = 83;\n",
    "LB = [0 0]';\n",
    "UB = [3 7]';\n",
    "\n",
    "x = intlinprog(f,intcon,A,b,[],[],LB,UB)"
   ]
  },
  {
   "cell_type": "markdown",
   "metadata": {},
   "source": [
    "**MIP Example 2**\n",
    "\n",
    "$$\\begin{align*}\n",
    "\\min_{x} \\quad\n",
    "& \\begin{bmatrix} -3 & -2 & -1 \\end{bmatrix}\n",
    "\\begin{bmatrix} x_1 \\\\ x_2 \\\\ x_3 \\end{bmatrix} \\\\\n",
    "\\text{subject to} \\quad\n",
    "& \\begin{bmatrix} 1 & 1 & 1 \\end{bmatrix}\n",
    "\\begin{bmatrix} x_1 \\\\ x_2 \\\\ x_3 \\end{bmatrix} \\leq 7 \\\\\n",
    "& \\begin{bmatrix} 4 & 2 & 1 \\end{bmatrix}\n",
    "\\begin{bmatrix} x_1 \\\\ x_2 \\\\ x_3 \\end{bmatrix} = 12 \\\\\n",
    "& 0 \\leq \\begin{bmatrix} x_1 \\\\ x_2 \\\\ x_3 \\end{bmatrix} \\\\\n",
    "& x_3 \\in \\{0,1\\}\n",
    "\\end{align*}\n",
    "$$"
   ]
  },
  {
   "cell_type": "code",
   "execution_count": 6,
   "metadata": {
    "collapsed": false
   },
   "outputs": [
    {
     "data": {
      "text/plain": [
       "LP:                Optimal objective value is -12.000000.                                           \r\n",
       "\r\n",
       "\r\n",
       "Optimal solution found.\r\n",
       "\r\n",
       "Intlinprog stopped at the root node because the objective value is within a gap tolerance of the optimal value, options.TolGapAbs = 0\r\n",
       "(the default value). The intcon variables are integer within tolerance, options.TolInteger = 1e-05 (the default value).\r\n",
       "\r\n",
       "\r\n",
       "x =\r\n",
       "\r\n",
       "         0\r\n",
       "    5.5000\r\n",
       "    1.0000"
      ]
     },
     "execution_count": 6,
     "metadata": {},
     "output_type": "execute_result"
    }
   ],
   "source": [
    "f = [-3; -2; -1];\n",
    "intcon = 3;\n",
    "A = [1, 1, 1];\n",
    "b = 7;\n",
    "Aeq = [4,2,1];\n",
    "beq = 12;\n",
    "lb = zeros(3,1);\n",
    "ub = [Inf;Inf;1];\n",
    "\n",
    "x = intlinprog(f,intcon,A,b,Aeq,beq,lb,ub)"
   ]
  },
  {
   "cell_type": "markdown",
   "metadata": {},
   "source": [
    "## Knapsack problems revisit"
   ]
  },
  {
   "cell_type": "markdown",
   "metadata": {},
   "source": [
    "- There is a container(knapsack) of capacity C = 20.\n",
    "Further more, there is a set 6 of objects.\n",
    "Each object has a weight and a value.\n",
    "- Determine the number of each item to include in a collection so that the total size is less than or equal to 20 and the total value is as large as possible.\n",
    "\n",
    "|items|1|2|3|4|5|6\n",
    "|:-:|:-:|:-:|:-:|:-:|:-:|:-:\n",
    "|weights|10|9|4|2|1|20\n",
    "|values|175|90|20|50|10|200\n",
    "\n",
    "<br>\n",
    "Question: Can we formulate this knapsack problem into a binary integer program?\n",
    "\n",
    "$\\Rightarrow$ decision variables $\\quad x_{i} \\in \\{0,1\\} \\quad i = 1,\\cdots,6$\n",
    "\n",
    "$$\\begin{align*}\n",
    "\\max_{x} \\quad & 175x_1 + 90x_2 + 20x_3 + 50x_4 + 10x_5 + 200x_6 \\\\\n",
    "\\text{subject to} \\quad & 10x_1 + 9x_2 + 4x_3 + 2x_4 + x_5 + 20x_6 \\leq 20 \\\\\n",
    "\\end{align*}\n",
    "$$\n",
    "\n",
    "$\\Rightarrow$ \"intlinprog\" in Matlab to solve"
   ]
  },
  {
   "cell_type": "code",
   "execution_count": 7,
   "metadata": {
    "collapsed": false
   },
   "outputs": [
    {
     "data": {
      "text/plain": [
       "LP:                Optimal objective value is -305.000000.                                          \r\n",
       "\r\n",
       "Cut Generation:    Applied 1 strong CG cut.                                                         \r\n",
       "                   Lower bound is -275.000000.                                                      \r\n",
       "                   Relative gap is 0.00%.                                                          \r\n",
       "\r\n",
       "\r\n",
       "Optimal solution found.\r\n",
       "\r\n",
       "Intlinprog stopped at the root node because the objective value is within a gap tolerance of the optimal value, options.TolGapAbs = 0\r\n",
       "(the default value). The intcon variables are integer within tolerance, options.TolInteger = 1e-05 (the default value).\r\n",
       "\r\n",
       "\r\n",
       "x =\r\n",
       "\r\n",
       "    1.0000\r\n",
       "    1.0000\r\n",
       "         0\r\n",
       "         0\r\n",
       "    1.0000\r\n",
       "         0"
      ]
     },
     "execution_count": 7,
     "metadata": {},
     "output_type": "execute_result"
    }
   ],
   "source": [
    "% given\n",
    "n = 6;  % # of items\n",
    "weights = [10 9 4 2 1 20];\n",
    "values = [175 90 20 50 10 200];\n",
    "maxWeight = 20;\n",
    "\n",
    "% in a form of MILP\n",
    "\n",
    "f = -values;        % max\n",
    "A = weights;\n",
    "b = maxWeight;\n",
    "intcon = 1:n;\n",
    "lb = zeros(n,1);\n",
    "ub = ones(n,1);\n",
    "\n",
    "x = intlinprog(f,intcon,A,b,[],[],lb,ub)"
   ]
  },
  {
   "cell_type": "markdown",
   "metadata": {},
   "source": [
    "## Factory and warehouse\n",
    "\n",
    "- A campany wnats to\n",
    "$\\begin{cases}\n",
    "  \\text{1. build new factory in Ulsan, Busan, or both} \\\\\n",
    "  \\text{2. build new warehouse (only one has to be built)} \\\\\n",
    "  \\text{3. warehouse must be built in a city of a new factory} \\\\\n",
    "\\end{cases}\n",
    "$\n",
    "\n",
    "\n",
    "- Available capital is 10. We want to maximize total profit.\n",
    "\n",
    "\n",
    "| | |Profit|Cost to build\n",
    "|:-:|:-|:-:|:-:\n",
    "|1|Build a factory in Ulsan|7|5\n",
    "|2|Build a factory in Busan|5|3\n",
    "|3|Build a warehouse in Ulsan|6|5\n",
    "|4|Build a warehouse in Busan|4|2\n",
    "\n",
    "\n",
    "- Form a binary integer programming to find the optimal locations of new factory and warehouse, and solve it using intlinprog in MATLAB.\n",
    "\n",
    "\n",
    "(Hint: define binary decision variables, then use them to define objective function and constraints.)"
   ]
  },
  {
   "cell_type": "code",
   "execution_count": 8,
   "metadata": {
    "collapsed": false
   },
   "outputs": [
    {
     "data": {
      "text/plain": [
       "LP:                Optimal objective value is -16.000000.                                           \r\n",
       "\r\n",
       "\r\n",
       "Optimal solution found.\r\n",
       "\r\n",
       "Intlinprog stopped at the root node because the objective value is within a gap tolerance of the optimal value, options.TolGapAbs = 0\r\n",
       "(the default value). The intcon variables are integer within tolerance, options.TolInteger = 1e-05 (the default value).\r\n",
       "\r\n",
       "\r\n",
       "x =\r\n",
       "\r\n",
       "    1.0000\r\n",
       "    1.0000\r\n",
       "         0\r\n",
       "    1.0000\r\n",
       "\r\n",
       "\r\n",
       "fval =\r\n",
       "\r\n",
       "   -16"
      ]
     },
     "execution_count": 8,
     "metadata": {},
     "output_type": "execute_result"
    }
   ],
   "source": [
    "f = -[7 5 6 4]';\n",
    "intcon = [1 2 3 4];\n",
    "A = [5 3 5 2;\n",
    "    -1 -1 0 0;\n",
    "    -1 0 1 0;\n",
    "    0 -1 0 1];\n",
    "b = [10;\n",
    "    -1;\n",
    "    0;\n",
    "    0];\n",
    "\n",
    "Aeq = [0 0 1 1];\n",
    "beq = [1];\n",
    "\n",
    "lb = [0 0 0 0]';\n",
    "ub = [1 1 1 1]';\n",
    "[x fval] = intlinprog(f,intcon,A,b,Aeq,beq,lb,ub)"
   ]
  },
  {
   "cell_type": "markdown",
   "metadata": {},
   "source": [
    "## Shortest path\n",
    "\n",
    "\n",
    "\n",
    "- Binary integer programming can be applied to finding the shortest path in the graph.\n",
    "\n",
    "\n",
    "- Define the binary decision variables and form the binary integer programming. Then you can solve it using intlinprog command in MATLAB\n",
    "\n",
    "\n",
    "<img src = \"./image_files/opt_06.bmp\">"
   ]
  },
  {
   "cell_type": "code",
   "execution_count": 9,
   "metadata": {
    "collapsed": false
   },
   "outputs": [
    {
     "data": {
      "text/plain": [
       "LP:                Optimal objective value is 10.000000.                                            \r\n",
       "\r\n",
       "\r\n",
       "Optimal solution found.\r\n",
       "\r\n",
       "Intlinprog stopped at the root node because the objective value is within a gap tolerance of the optimal value, options.TolGapAbs = 0\r\n",
       "(the default value). The intcon variables are integer within tolerance, options.TolInteger = 1e-05 (the default value).\r\n",
       "\r\n",
       "\r\n",
       "x =\r\n",
       "\r\n",
       "     1\r\n",
       "     0\r\n",
       "     1\r\n",
       "     1\r\n",
       "     0\r\n",
       "     0\r\n",
       "     1"
      ]
     },
     "execution_count": 9,
     "metadata": {},
     "output_type": "execute_result"
    }
   ],
   "source": [
    "f = [1 4 2 4 8 11 3]';\n",
    "Aeq = [1 1 0 0 0 0 0\n",
    "    1 0 -1 0 0 -1 0\n",
    "    0 1 1 -1 -1 0 0\n",
    "    0 0 0 1 0 0 -1\n",
    "    0 0 0 0 1 1 1];\n",
    "beq = [1 0 0 0 1]';\n",
    "\n",
    "intcon = 1:7;\n",
    "lb = zeros(7,1);\n",
    "ub = ones(7,1);\n",
    "\n",
    "x = intlinprog(f,intcon,[],[],Aeq,beq,lb,ub)"
   ]
  },
  {
   "cell_type": "markdown",
   "metadata": {},
   "source": [
    "## Robot Path Design\n",
    "\n",
    "\n",
    "- A circular mobile robot is to be navigated. The robot should take a path from point A to point B, avoiding the polygonal obstacles (hatched regions).\n",
    "\n",
    "\n",
    "- Design a collision free-path the robot can take with the minimum length.\n",
    "\n",
    "\n",
    "<img src = \"./image_files/opt_01.bmp\">"
   ]
  },
  {
   "cell_type": "markdown",
   "metadata": {},
   "source": [
    "## Vertex cover problem\n",
    "\n",
    "\n",
    "- Suppose you want to have an ATM in every street (block, district) of a city of Ulsan. However, each additional ATM machine costs more money. Therefore, we want to have the minimum number of ATM machines at the right location while they are accessible from every street.\n",
    "\n",
    "<img src = \"./image_files/opt_02.bmp\", width=400>"
   ]
  },
  {
   "cell_type": "code",
   "execution_count": 10,
   "metadata": {
    "collapsed": false
   },
   "outputs": [
    {
     "data": {
      "text/plain": [
       "LP:                Optimal objective value is 4.000000.                                             \r\n",
       "\r\n",
       "Cut Generation:    Applied 1 zero-half cut.                                                         \r\n",
       "                   Lower bound is 4.000000.                                                         \r\n",
       "                   Relative gap is 0.00%.                                                          \r\n",
       "\r\n",
       "\r\n",
       "Optimal solution found.\r\n",
       "\r\n",
       "Intlinprog stopped at the root node because the objective value is within a gap tolerance of the optimal value, options.TolGapAbs = 0\r\n",
       "(the default value). The intcon variables are integer within tolerance, options.TolInteger = 1e-05 (the default value).\r\n",
       "\r\n",
       "\r\n",
       "x =\r\n",
       "\r\n",
       "     1\r\n",
       "     1\r\n",
       "     0\r\n",
       "     0\r\n",
       "     0\r\n",
       "     0\r\n",
       "     1\r\n",
       "     1"
      ]
     },
     "execution_count": 10,
     "metadata": {},
     "output_type": "execute_result"
    }
   ],
   "source": [
    "n = 8;\n",
    "f = [1 1 1 1 1 1 1 1]';\n",
    "intcon = 1:n;\n",
    "A = -[1 0 1 0 0 0 0 0;\n",
    "     1 0 0 1 0 0 0 0;\n",
    "     1 0 0 0 1 0 0 0;\n",
    "     1 0 0 0 0 1 0 0;\n",
    "     1 0 0 0 0 0 1 0;\n",
    "     0 1 0 1 0 0 0 0;\n",
    "     0 1 0 0 1 0 0 0;\n",
    "     0 0 1 0 0 0 0 1;\n",
    "     0 0 0 0 1 0 1 0];\n",
    " b = -[1 1 1 1 1 1 1 1 1]';\n",
    " lb = zeros(n,1);\n",
    " ub = ones(n,1);\n",
    " x = intlinprog(f,intcon,A,b,[],[],lb,ub)"
   ]
  },
  {
   "cell_type": "markdown",
   "metadata": {},
   "source": [
    "## Coloring problems\n",
    "\n",
    "\n",
    "- Find the minimum number of colors that can cover the below Ulsan map without conflicting the adjacent rule.\n",
    "\n",
    "\n",
    "- Coloring problem: color the vertext of a graph in such a way that adjacent vertices are differently colored, while minimizing the number of colors.\n",
    "\n",
    "<img src = \"./image_files/opt_04.bmp\", width = 400>\n",
    "\n",
    "<br>\n",
    "<br>\n",
    "\n",
    "\n",
    "- Define ILP decision variables\n",
    "\n",
    "\n",
    "$$\\begin{align*}\n",
    "& y_k =\n",
    "\\begin{cases}\n",
    "1 \\quad \\text{if color k is used} \\\\\n",
    "0 \\quad \\text{if color k is not used}\n",
    "\\end{cases} \\\\\n",
    "& x_{ik} = \n",
    "\\begin{cases}\n",
    "1 \\quad \\text{if vertex i gets color k} \\\\\n",
    "0 \\quad \\text{otherwise}\n",
    "\\end{cases}\n",
    "\\end{align*}\n",
    "$$\n",
    "\n",
    "\n",
    "\n",
    "$$\\begin{align*}\n",
    "\\min \\quad\n",
    "& \\sum \\limits_{k=1}^5 y_k \\\\\n",
    "\\text{subject to} \\quad\n",
    "& \\sum \\limits_{k=1}^5 x_{ik} = 1 \\\\\n",
    "& x_{ik} + x_{jk}  \\leq 1 \\quad \\;\n",
    "\\text{for } E_{ij} \\in E \\text{ and } 1 \\leq k \\leq 5 \\\\\n",
    "& x_{ik} \\leq y_k \\quad \\quad \\quad\n",
    "\\text{for } 1 \\leq i \\leq 5 \\text{ and } 1\\leq k \\leq 5 \\\\\n",
    "& x_{ik}, y_{k} \\in \\{0,1\\}\n",
    "\\end{align*}\n",
    "$$"
   ]
  },
  {
   "cell_type": "code",
   "execution_count": 11,
   "metadata": {
    "collapsed": false
   },
   "outputs": [
    {
     "data": {
      "text/plain": [
       "LP:                Optimal objective value is 1.000000.                                             \r\n",
       "\r\n",
       "Cut Generation:    Applied 2 clique cuts.                                                           \r\n",
       "                   Lower bound is 1.000000.                                                         \r\n",
       "\r\n",
       "Branch and Bound:\r\n",
       "\r\n",
       "   nodes     total   num int        integer       relative                                          \r\n",
       "explored  time (s)  solution           fval        gap (%)                                         \r\n",
       "      27      0.01         1   4.000000e+00   4.000000e+01                                          \r\n",
       "      79      0.04         1   4.000000e+00   0.000000e+00                                          \r\n",
       "\r\n",
       "Optimal solution found.\r\n",
       "\r\n",
       "Intlinprog stopped because the objective value is within a gap tolerance of the optimal value, options.TolGapAbs = 0 (the default\r\n",
       "value). The intcon variables are integer within tolerance, options.TolInteger = 1e-05 (the default value).\r\n",
       "\r\n",
       "\r\n",
       "y =\r\n",
       "\r\n",
       "     1\r\n",
       "     1\r\n",
       "     1\r\n",
       "     1\r\n",
       "     0"
      ]
     },
     "execution_count": 11,
     "metadata": {},
     "output_type": "execute_result"
    }
   ],
   "source": [
    "%% coloring problem using binary integer programming\n",
    "% Actually number of colours is at most 5\n",
    "% Therefore we restrict our number of colours to be 5\n",
    "\n",
    "% vertex V1:울주군, V2:중구, V3:북구, V4:남구, V5:동구\n",
    "\n",
    "\n",
    "% edges (or adjacent)\n",
    "E = [1,2; \n",
    "     1,3; \n",
    "     1,4; \n",
    "     2,3; \n",
    "     2,4; \n",
    "     3,4; \n",
    "     3,5; \n",
    "     4,5];\n",
    " \n",
    "%% equality constraints\n",
    "A1 = zeros(5, 30);\n",
    "for i = 1:5\n",
    "    A1(i,1+(i-1)*5:i*5) = 1;\n",
    "end\n",
    "\n",
    "b1 = ones(5,1);\n",
    "\n",
    "%% inequality \n",
    "A2 = zeros(length(E)*5, 30);\n",
    "for k = 1:5\n",
    "    for i = 1:length(E)\n",
    "       A2(i+length(E)*(k-1),5*(E(i,1)-1)+k) = 1; \n",
    "       A2(i+length(E)*(k-1),5*(E(i,2)-1)+k) = 1;\n",
    "    end\n",
    "end\n",
    "b2 = ones(length(E)*5, 1);\n",
    "\n",
    "A3 = zeros(25, 30);\n",
    "for k = 1:5\n",
    "    for i = 1:5\n",
    "        A3(i+5*(k-1),5*(i-1)+k) = 1;   % x_ik\n",
    "        A3(i+5*(k-1),25+k) = -1;       % -y_k\n",
    "    end\n",
    "end\n",
    "b3 = zeros(25, 1);\n",
    "\n",
    "%% plug-in to intlinprog standard form\n",
    "f = [zeros(1,25), ones(1,5)]';\n",
    "intcon = 1:30;\n",
    "\n",
    "Aeq = A1;\n",
    "beq = b1;\n",
    "\n",
    "A = [A2; A3];\n",
    "b = [b2; b3];\n",
    "\n",
    "lb = zeros(30, 1);\n",
    "ub = ones(30, 1);\n",
    "\n",
    "solution = intlinprog(f,intcon,A,b,Aeq,beq,lb,ub);\n",
    "x = solution(1:25);\n",
    "X = [];\n",
    "for i = 1:5\n",
    "    X(i,:) = x(1+(i-1)*5:5+(i-1)*5);\n",
    "end\n",
    "y = solution(26:30)\n"
   ]
  },
  {
   "cell_type": "markdown",
   "metadata": {},
   "source": [
    "## Flat pattern desing of 3D shapes\n",
    "\n",
    "\n",
    "- A box with the dimensions specified is to be made by bending and welding a flat pattern cut out of sheet metal. Design the at pattern with minimum welding length that can be made to the box.\n",
    "\n",
    "\n",
    "<img src = \"./image_files/opt_05.bmp\">\n",
    "\n",
    "\n",
    "<br>\n",
    "<br>\n",
    "\n",
    "$$ x_i =\n",
    "\\begin{cases}\n",
    "1 \\quad \\text{if two nodes are connected (welded).}\\\\\n",
    "0 \\\\\n",
    "\\end{cases}\n",
    "$$\n",
    "\n",
    "\n",
    "Constraints\n",
    "- No disconnected node.\n",
    "- Only 6-1 edges are required.\n",
    "\n",
    "\n",
    "$$\\begin{align*}\n",
    "\\max_{x} \\quad & x_1 + x_2 + x_3 + x_4 + 2x_5 + 2x_6 + 2x_7 + 2x_8 + 3x_9 + 3x_{10}\n",
    "+ 3x_{11} + 3x_{12} \\\\\n",
    "\\text{subject to} \\quad & x_1 + x_2 + x_5 + x_8 \\leq 1 \\\\\n",
    "& x_2 + x_4 + x_{10} + x_{12} \\leq 1 \\\\\n",
    "& x_3 + x_4 + x_6 + x_7 \\leq 1 \\\\\n",
    "& x_1 + x_3 + x_9 + x_{11} \\leq 1 \\\\\n",
    "& x_5 + x_6 + x_9 + x_{10} \\leq 1 \\\\\n",
    "& x_7 + x_8 + x_{11} + x_{12} \\leq 1 \\\\\n",
    "& x_1 + x_2 + x_3 + x_4 + x_5 + x_6 + x_7 + x_8 + x_9 + x_{10} + x_{11} + x_{12} = 5\n",
    "\\end{align*}\n",
    "$$"
   ]
  },
  {
   "cell_type": "code",
   "execution_count": 12,
   "metadata": {
    "collapsed": false
   },
   "outputs": [
    {
     "data": {
      "text/plain": [
       "LP:                Optimal objective value is -13.000000.                                           \r\n",
       "\r\n",
       "\r\n",
       "Optimal solution found.\r\n",
       "\r\n",
       "Intlinprog stopped at the root node because the objective value is within a gap tolerance of the optimal value, options.TolGapAbs = 0\r\n",
       "(the default value). The intcon variables are integer within tolerance, options.TolInteger = 1e-05 (the default value).\r\n",
       "\r\n",
       "\r\n",
       "x =\r\n",
       "\r\n",
       "     0\r\n",
       "     0\r\n",
       "     0\r\n",
       "     0\r\n",
       "     1\r\n",
       "     0\r\n",
       "     1\r\n",
       "     0\r\n",
       "     1\r\n",
       "     0\r\n",
       "     1\r\n",
       "     1"
      ]
     },
     "execution_count": 12,
     "metadata": {},
     "output_type": "execute_result"
    }
   ],
   "source": [
    "n = 12;\n",
    "f = -[1 1 1 1 2 2 2 2 3 3 3 3]';\n",
    "intcon = 1:n;\n",
    "A = -[1 1 0 0 1 0 0 1 0 0 0 0;\n",
    "     0 1 0 1 0 0 0 0 0 1 0 1;\n",
    "     0 0 1 1 0 1 1 0 0 0 0 0;\n",
    "     1 0 1 0 0 0 0 0 1 0 1 0;\n",
    "     0 0 0 0 1 1 0 0 1 1 0 0;\n",
    "     0 0 0 0 0 0 1 1 0 0 1 1];\n",
    "\n",
    " b = -ones(6,1);\n",
    "\n",
    " Aeq = ones(1,n);\n",
    " beq = 5;\n",
    " lb = zeros(n,1);\n",
    " ub = ones(n,1);\n",
    "\n",
    " x = intlinprog(f,intcon,A,b,Aeq,beq,lb,ub)"
   ]
  },
  {
   "cell_type": "markdown",
   "metadata": {},
   "source": [
    "## Traveling salesman problem\n",
    "\n",
    "\n",
    "- Starting from his home, a salesman wishes to visit each of (n-1) other cities and return home at minimal cost. He must visit each city exactly once and it cost $c_{ij}$ to travel from city $i$ to city $j$.\n",
    "\n",
    "\n",
    "- What route should he select?\n",
    "\n",
    "\n",
    "<img src = \"image_files/opt_07.jpg\", width=400>\n",
    "\n",
    "\n",
    "<br>\n",
    "<br>\n",
    "\n",
    "Starting from node 1, visit 2,3,4 once and return node 1 at minimal cost.\n",
    "\n",
    "\n",
    "$$ x_{ij} = \n",
    "\\begin{cases}\n",
    "1 \\quad \\text{if travel from i to j} \\\\\n",
    "0 \\quad \\text{otherwise}\n",
    "\\end{cases}\n",
    "$$\n",
    "\n",
    "\n",
    "$$\\begin{align*}\n",
    "\\min_{x} \\quad\n",
    "& \\sum \\limits_{i=1}^4 \\sum \\limits_{j=1}^4 c_{ij} x_{ij} \\\\\n",
    "\\text{subject to} \\quad\n",
    "& \\sum \\limits_{j} x_{ij} = 1 \\quad \\text{for i=1,2,3,4} \\\\\n",
    "& \\sum \\limits_{i} x_{ij} = 1 \\quad \\text{for j=1,2,3,4} \\\\\n",
    "& \\sum \\limits_{i \\in S, j \\in \\overline{S}} x_{ij} \\geq 1 \\quad\n",
    "\\text{for all prtitions} \\; (S,\\overline{S}) \\quad 2 \\leq \\vert S \\vert \\leq m-2 \\\\\n",
    "\\end{align*}\n",
    "$$\n",
    "\n",
    "\n",
    "\n",
    "$$\\begin{align*} \\\\\n",
    "\\min_{x} \\quad\n",
    "& 5x_{12} + 10x_{13} + 13x_{14} + 5x_{21} + 8x_{23} + 9x_{24} \\\\\n",
    "& + 10x_{31} + 8x_{32} + 7x_{34} + 13x_{41} + 9x_{42} + 7x_{43} \\\\ \\\\\n",
    "\\text{subject to} \\quad\n",
    "& x_{11} + x_{12} + x_{13} + x_{14} = 1 \\\\\n",
    "& x_{21} + x_{22} + x_{23} + x_{24} = 1 \\\\\n",
    "& x_{31} + x_{32} + x_{33} + x_{34} = 1 \\\\\n",
    "& x_{41} + x_{42} + x_{43} + x_{44} = 1 \\\\\n",
    "& x_{11} + x_{21} + x_{31} + x_{41} = 1 \\\\\n",
    "& x_{12} + x_{22} + x_{32} + x_{42} = 1 \\\\\n",
    "& x_{13} + x_{23} + x_{33} + x_{43} = 1 \\\\\n",
    "& x_{14} + x_{24} + x_{34} + x_{44} = 1 \\\\\n",
    "& x_{11} = x_{22} = x_{33} = x_{44} = 0 \\\\ \\\\\n",
    "& \\text{no sub-closed loop conditions} \\\\ \\\\\n",
    "& x_{23} + x_{24} + x_{13} + x_{14} \\geq 1 \\\\\n",
    "& x_{31} + x_{32} + x_{41} + x_{42} \\geq 1 \\\\ \\\\\n",
    "& x_{21} + x_{24} + x_{31} + x_{34} \\geq 1 \\\\\n",
    "& x_{12} + x_{13} + x_{42} + x_{43} \\geq 1 \\\\ \\\\\n",
    "& x_{21} + x_{23} + x_{41} + x_{43} \\geq 1 \\\\\n",
    "& x_{12} + x_{14} + x_{32} + x_{34} \\geq 1 \\\\\n",
    "\\end{align*}\n",
    "$$"
   ]
  },
  {
   "cell_type": "code",
   "execution_count": 13,
   "metadata": {
    "collapsed": false
   },
   "outputs": [
    {
     "data": {
      "text/plain": [
       "LP:                Optimal objective value is 24.000000.                                            \r\n",
       "\r\n",
       "\r\n",
       "Optimal solution found.\r\n",
       "\r\n",
       "Intlinprog stopped at the root node because the objective value is within a gap tolerance of the optimal value, options.TolGapAbs = 0\r\n",
       "(the default value). The intcon variables are integer within tolerance, options.TolInteger = 1e-05 (the default value).\r\n",
       "\r\n",
       "\r\n",
       "x =\r\n",
       "\r\n",
       "     1\r\n",
       "     0\r\n",
       "     0\r\n",
       "     1\r\n",
       "     0\r\n",
       "     0\r\n",
       "     0\r\n",
       "     0\r\n",
       "     1\r\n",
       "     0\r\n",
       "     0\r\n",
       "     1"
      ]
     },
     "execution_count": 13,
     "metadata": {},
     "output_type": "execute_result"
    }
   ],
   "source": [
    "n = 4;\n",
    "f = [5 10 13 5 8 9 10 8 7 13 9 7]';\n",
    "intcon = 1:n*(n-1);\n",
    "lb = zeros(n*(n-1),1);\n",
    "ub = ones(n*(n-1),1);\n",
    "\n",
    "Aeq = [1 1 1 0 0 0 0 0 0 0 0 0;\n",
    "       0 0 0 1 1 1 0 0 0 0 0 0;\n",
    "       0 0 0 0 0 0 1 1 1 0 0 0;\n",
    "       0 0 0 0 0 0 0 0 0 1 1 1;\n",
    "       0 0 0 1 0 0 1 0 0 1 0 0;\n",
    "       1 0 0 0 0 0 0 1 0 0 1 0;\n",
    "       0 1 0 0 1 0 0 0 0 0 0 1;\n",
    "       0 0 1 0 0 1 0 0 1 0 0 0];\n",
    "\n",
    "beq = [1 1 1 1 1 1 1 1]';\n",
    "\n",
    "x = intlinprog(f,intcon,[],[],Aeq,beq,lb,ub)"
   ]
  },
  {
   "cell_type": "markdown",
   "metadata": {},
   "source": [
    "**what is wrong?**"
   ]
  },
  {
   "cell_type": "code",
   "execution_count": 14,
   "metadata": {
    "collapsed": false
   },
   "outputs": [
    {
     "data": {
      "text/plain": [
       "LP:                Optimal objective value is 31.000000.                                            \r\n",
       "\r\n",
       "\r\n",
       "Optimal solution found.\r\n",
       "\r\n",
       "Intlinprog stopped at the root node because the objective value is within a gap tolerance of the optimal value, options.TolGapAbs = 0\r\n",
       "(the default value). The intcon variables are integer within tolerance, options.TolInteger = 1e-05 (the default value).\r\n",
       "\r\n",
       "\r\n",
       "x =\r\n",
       "\r\n",
       "     1\r\n",
       "     0\r\n",
       "     0\r\n",
       "     0\r\n",
       "     0\r\n",
       "     1\r\n",
       "     1\r\n",
       "     0\r\n",
       "     0\r\n",
       "     0\r\n",
       "     0\r\n",
       "     1"
      ]
     },
     "execution_count": 14,
     "metadata": {},
     "output_type": "execute_result"
    }
   ],
   "source": [
    "A = -[0 1 1 0 1 1 0 0 0 0 0 0;\n",
    "      0 0 0 0 0 0 1 1 0 1 1 0];\n",
    "b = -[1 1]';\n",
    "\n",
    "x = intlinprog(f,intcon,A,b,Aeq,beq,lb,ub)"
   ]
  },
  {
   "cell_type": "markdown",
   "metadata": {},
   "source": [
    "# Quadratic Programming (QP) \n",
    "---"
   ]
  },
  {
   "cell_type": "markdown",
   "metadata": {},
   "source": [
    "## Best location at a concert\n",
    "\n",
    "\n",
    "Question: Find the best location to listen to singer's voice\n",
    "\n",
    "$$\\begin{align*}\n",
    "\\Rightarrow \\quad \\min \\quad\n",
    "&  \\sqrt{(x_1-3)^{2}+(x_2-3)^{2}} \\\\\n",
    "\\Rightarrow \\quad \\min \\quad\n",
    "& (x_1-3)^{2} + (x_2-3)^{2} \\\\\n",
    "\\text{subject to} \\quad\n",
    "& x_1 + x_2 \\leq 5 \\\\\n",
    "& x_1 \\geq 0 \\\\\n",
    "& x_2 \\geq 0\n",
    "\\end{align*}\n",
    "$$\n",
    "\n",
    "$$\\begin{align*}\n",
    "\\Rightarrow \\quad & x_1^{2} - 6x_1 + 9 + x_2^{2} - 6x_2 + 9 \\\\\n",
    "& = x_1^{2} + x_2^{2} - 6 x_1 - 6x_2 + 18 \\\\\n",
    "& = \\frac{1}{2} \\begin{bmatrix} x_1 & x_2 \\end{bmatrix}\n",
    "\\begin{bmatrix} 2 & 0 \\\\ 0 & 2 \\end{bmatrix}\n",
    "\\begin{bmatrix} x_1 \\\\ x_2 \\end{bmatrix} - \n",
    "\\begin{bmatrix} 6 & 6 \\end{bmatrix}\n",
    "\\begin{bmatrix} x_1 \\\\ x_2 \\end{bmatrix} + 18 \\\\\n",
    "& \\begin{bmatrix} 1 & 1 \\end{bmatrix}\n",
    "\\begin{bmatrix} x_1 \\\\ x_2 \\end{bmatrix} \\leq 5 \\\\\n",
    "& \\begin{bmatrix} 0 \\\\ 0 \\end{bmatrix} \\leq\n",
    "\\begin{bmatrix} x_1 \\\\ x_2 \\end{bmatrix} \\leq\n",
    "\\begin{bmatrix} \\\\ \\\\ \\end{bmatrix}\n",
    "\\end{align*}\n",
    "$$"
   ]
  },
  {
   "cell_type": "code",
   "execution_count": 15,
   "metadata": {
    "collapsed": false
   },
   "outputs": [
    {
     "data": {
      "text/plain": [
       "Minimum found that satisfies the constraints.\r\n",
       "\r\n",
       "Optimization completed because the objective function is non-decreasing in \r\n",
       "feasible directions, to within the default value of the function tolerance,\r\n",
       "and constraints are satisfied to within the default value of the constraint tolerance.\r\n",
       "\r\n",
       "\r\n",
       "\r\n",
       "\r\n",
       "x =\r\n",
       "\r\n",
       "    2.5000\r\n",
       "    2.5000"
      ]
     },
     "execution_count": 15,
     "metadata": {},
     "output_type": "execute_result"
    }
   ],
   "source": [
    "H = [2 0;\n",
    "    0 2];\n",
    "f = -[6 6]';\n",
    "A = [1 1];\n",
    "b = 5;\n",
    "lb = [0 0]';\n",
    "\n",
    "x = quadprog(H,f,A,b,[],[],lb,[])"
   ]
  },
  {
   "cell_type": "markdown",
   "metadata": {},
   "source": [
    "## Linear regression\n",
    "Data fitting or approximation\n",
    "\n",
    "Given $(x_1,y_1), (x_2,y_2),\\cdots,(x_m,y_m)$, find $y_i \\approx \\theta_1 x_i + \\theta_0$\n",
    "\n",
    "such that $ \\min_{\\theta_1,\\theta_2} \\; \\sum \\limits_{i=1}^m(\\hat{y}_i-y_i)^{2}$\n",
    "\n",
    "Optimization problem: find $\\theta_1$ and $\\theta_0$ such that minimize total sum of $error^{2} \\; ( error_i = \\big \\vert \\hat{y}_i-y_i \\big \\vert )$ + no constraints on $\\theta_1$ and $\\theta_0$\n",
    "\n",
    "\n",
    "$$\\Rightarrow \\quad \\text{Let} \\quad X = \n",
    "\\begin{bmatrix} x_1 & 1 \\\\ x_2 &1 \\\\ \\vdots & \\vdots \\\\ x_m & 1 \\end{bmatrix}, Y =\n",
    "\\begin{bmatrix} y_1 \\\\ y_2 \\\\ \\vdots \\\\ y_m \\end{bmatrix}\n",
    "$$\n",
    "\n",
    "\n",
    "Remark) norm of vector $u = \\begin{bmatrix} u_1 \\\\ u_2 \\\\ \\vdots \\\\ u_m \\end{bmatrix}\n",
    "= \\Vert u \\Vert = \\sqrt{u_1^{2}+u_2^{2}+\\cdots+u_m^{2}}$\n",
    "\n",
    "$$\\begin{align*}\n",
    "X\\Theta\n",
    "& = \\begin{bmatrix} x_1 & 1 \\\\ x_2 & 1 \\\\ \\vdots & \\vdots \\\\ x_m & 1 \\end{bmatrix}\n",
    "\\begin{bmatrix} \\theta_1 \\\\ \\theta_0 \\end{bmatrix} = \n",
    "\\begin{bmatrix} \\theta_1 x_1 + \\theta_0 \\\\ \\theta_1 x_2 + \\theta_0 \\\\ \\vdots \\\\\n",
    "\\theta_1 x_m + \\theta_0 \\end{bmatrix} \\\\ \\\\\n",
    "X \\Theta - Y\n",
    "& = \\begin{bmatrix} \\theta_1 x_1 + \\theta_0 - y_1 \\\\\n",
    "\\theta_1 x_2 + \\theta_0 - y_2 \\\\ \\vdots \\\\\n",
    "\\theta_1 x_m + \\theta_0 - y_m \\end{bmatrix} \\\\ \\\\\n",
    "\\Vert X \\Theta - Y \\Vert^{2}\n",
    "& = (\\theta_1 x_1 + \\theta_0 - y_1)^{2} + \\cdots + (\\theta_1 x_m + \\theta_0 - y_m)^{2} \\\\ & = \\min_{\\theta_1,\\theta_2} \\; \\sum \\limits_{i=1}^m(\\hat{y}_i-y_i)^{2} \\\\\n",
    "& \\Rightarrow \\min_{\\Theta} \\Vert X \\Theta - Y \\Vert^{2}\n",
    "\\end{align*}\n",
    "$$"
   ]
  },
  {
   "cell_type": "markdown",
   "metadata": {},
   "source": [
    "$$\\begin{align*}\n",
    "& (X \\Theta - Y)^T(X \\Theta - Y) \\\\ \n",
    "& = (\\Theta^T X^T - Y^T)(X \\Theta - Y) \\\\\n",
    "& = \\Theta^T X^T X \\Theta - \\Theta^T X^T Y\n",
    "- Y^T X \\Theta + \\mathbf{Y}^T Y \\\\ \\\\ \\Rightarrow\n",
    "& \\frac{1}{2} \\Theta^T (2 X^T X) \\Theta\n",
    "- 2 Y^T X \\Theta\n",
    "\\end{align*}\n",
    "$$\n",
    "\n",
    "use quadprog($ 2 X^T X$, $- 2 X^T Y$)"
   ]
  },
  {
   "cell_type": "code",
   "execution_count": 16,
   "metadata": {
    "collapsed": false
   },
   "outputs": [
    {
     "data": {
      "image/png": "[encoded data removed]",
      "text/plain": [
       "<IPython.core.display.Image object>"
      ]
     },
     "metadata": {},
     "output_type": "display_data"
    },
    {
     "data": {
      "text/plain": [
       "Minimum found that satisfies the constraints.\r\n",
       "\r\n",
       "Optimization completed because the objective function is non-decreasing in \r\n",
       "feasible directions, to within the default value of the function tolerance,\r\n",
       "and constraints are satisfied to within the default value of the constraint tolerance."
      ]
     },
     "execution_count": 16,
     "metadata": {},
     "output_type": "execute_result"
    }
   ],
   "source": [
    "% data\n",
    "x = [0.1 0.4 0.7 1.2 1.3 1.7 2.2 2.8 3.0 4.0 4.3 4.4 4.9]';\n",
    "y = [0.5 0.9 1.1 1.5 1.5 2.0 2.2 2.8 2.7 3.0 3.5 3.7 3.9]';\n",
    "\n",
    "m = length(x);\n",
    "X = [x ones(m,1)];\n",
    "\n",
    "H = 2*X'*X;\n",
    "f = -2*X'*y;\n",
    "\n",
    "theta = quadprog(H,f);\n",
    "yhat = X*theta;\n",
    "\n",
    "figure(1),  clf\n",
    "plot(x,y,'o',x,yhat,'linewidth',2)"
   ]
  },
  {
   "cell_type": "code",
   "execution_count": 1,
   "metadata": {
    "collapsed": false
   },
   "outputs": [
    {
     "data": {
      "application/javascript": [
       "$.getScript('https://kmahelona.github.io/ipython_notebook_goodies/ipython_notebook_toc.js')"
      ],
      "text/plain": [
       "<IPython.core.display.Javascript object>"
      ]
     },
     "metadata": {},
     "output_type": "display_data"
    }
   ],
   "source": [
    "%%javascript\n",
    "$.getScript('https://kmahelona.github.io/ipython_notebook_goodies/ipython_notebook_toc.js')"
   ]
  }
 ],
 "metadata": {
  "kernelspec": {
   "display_name": "Matlab",
   "language": "matlab",
   "name": "matlab_kernel"
  },
  "language_info": {
   "file_extension": ".m",
   "help_links": [
    {
     "text": "MetaKernel Magics",
     "url": "https://github.com/calysto/metakernel/blob/master/metakernel/magics/README.md"
    }
   ],
   "mimetype": "text/x-matlab",
   "name": "octave"
  }
 },
 "nbformat": 4,
 "nbformat_minor": 0
}
