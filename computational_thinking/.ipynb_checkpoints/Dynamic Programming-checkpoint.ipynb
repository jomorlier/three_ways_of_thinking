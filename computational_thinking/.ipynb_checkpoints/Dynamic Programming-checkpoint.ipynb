{
 "cells": [
  {
   "cell_type": "markdown",
   "metadata": {},
   "source": [
    "<font size='6'><b>Dynamic Programming</b></font>\n",
    "\n",
    "Table of Contents\n",
    "<div id=\"toc\"></div>"
   ]
  },
  {
   "cell_type": "markdown",
   "metadata": {},
   "source": [
    "# 1. Dynamic Programming\n",
    "\n",
    "- Dynamic Programming: general, powerful algorithm design technique\n",
    "\n",
    "\n",
    "- Fibonacci numbers:\n",
    "\n",
    "$$\n",
    "\\begin{align*}\n",
    "F_1 &= F_2 = 1 \\\\\n",
    "F_n &= F_{n-1} + F_{n-2}\n",
    "\\end{align*}\n",
    "$$\n",
    "\n",
    "\n",
    "## 1.1. Naive Recursive algorithm\n",
    "\n",
    "$$\n",
    "\\begin{align*}\n",
    "\\text{fib}(n):&\\\\\n",
    "&\\text{if } n \\leq 2:\\; f = 1\\\\\n",
    "&\\text{else}:\\; f = \\text{fib}(n-1) + \\text{fib}(n-2)\\\\\n",
    "&\\text{return } f\n",
    "\\end{align*}$$\n",
    "\n",
    "it  works, Is it good?\n",
    "\n",
    "## 1.2. Memorized DP algorithm\n",
    "$$\n",
    "\\begin{align*}\n",
    "\\text{memo = []}&\\\\\n",
    "\\text{fib}(n):&\\\\\n",
    "& \\text{if $n$ in memo : return memo}[n]\\\\ \\\\\n",
    "& \\text{if } n\\leq 2 :\\; f = 1\\\\\n",
    "& \\text{else}: \\;f = \\text{fib}(n-1) + \\text{fib}(n-2)\\\\ \\\\\n",
    "&\\text{memo}[n] = f\\\\\n",
    "&\\text{return } f\n",
    "\\end{align*}$$\n",
    "\n",
    "Benefit?\n",
    "\n",
    "- fib$(n)$ only recurses the first time it's called\n",
    " \n",
    "<br>\n",
    "<img src = \"./image_files/DP01.png\", width = 300>\n",
    "<br>\n",
    "\n",
    "- memorize (remember) & re-use solutions to subproblems that helps solve the problem.\n",
    "\n",
    "$\\quad \\implies$ DP $\\simeq$ recursion + memorization\n",
    "\n",
    "## 1.3. Bottom-up DP algorithm\n",
    "$$\n",
    "\\begin{align*}\n",
    "&\\text{fib} = \\{\\}\\\\\n",
    "&\\text{for}\\; k    \\text{ in range}(1, n+1):\\\\\n",
    "&\\qquad\\text{if }k \\leq 2 : f = 1\\\\\n",
    "&\\qquad\\text{else}: f = \\text{fib}(k-1) + \\text{fib}(k-2)\\\\\n",
    "&\\qquad\\text{fib}(k) = f\\\\\n",
    "&\\text{return } \\text{fib}(n)\\\\\n",
    "\\end{align*}$$\n",
    "\n",
    "<br>\n",
    "<img src = \"./image_files/DP02.png\", width = 400>\n",
    "<br>\n",
    "\n",
    "- MIT online lecture"
   ]
  },
  {
   "cell_type": "code",
   "execution_count": 1,
   "metadata": {
    "collapsed": false
   },
   "outputs": [
    {
     "data": {
      "text/html": [
       "<iframe width=\"560\" height=\"315\" \n",
       "src=\"https://www.youtube.com/embed/OQ5jsbhAv_M\" \n",
       "frameborder=\"0\" allowfullscreen></iframe>"
      ],
      "text/plain": [
       "<IPython.core.display.HTML object>"
      ]
     },
     "metadata": {},
     "output_type": "display_data"
    }
   ],
   "source": [
    "%%html\n",
    "<iframe width=\"560\" height=\"315\" \n",
    "src=\"https://www.youtube.com/embed/OQ5jsbhAv_M\" \n",
    "frameborder=\"0\" allowfullscreen></iframe>"
   ]
  },
  {
   "cell_type": "markdown",
   "metadata": {},
   "source": [
    "# 2. Examples\n",
    "\n",
    "\n",
    "## 2.1. Fibonacci"
   ]
  },
  {
   "cell_type": "code",
   "execution_count": 3,
   "metadata": {
    "collapsed": false
   },
   "outputs": [],
   "source": [
    "# naive Fibonacci\n",
    "\n",
    "def fib(n):\n",
    "    if n <= 2:\n",
    "        return 1\n",
    "    else:\n",
    "        return fib(n-1) + fib(n-2)    "
   ]
  },
  {
   "cell_type": "code",
   "execution_count": 4,
   "metadata": {
    "collapsed": false
   },
   "outputs": [
    {
     "data": {
      "text/plain": [
       "55"
      ]
     },
     "execution_count": 4,
     "metadata": {},
     "output_type": "execute_result"
    }
   ],
   "source": [
    "fib(10)"
   ]
  },
  {
   "cell_type": "code",
   "execution_count": 5,
   "metadata": {
    "collapsed": true
   },
   "outputs": [],
   "source": [
    "# Memorized DP Fibonacci\n",
    "\n",
    "def mfib(n):\n",
    "    global memo\n",
    "        \n",
    "    if memo[n-1] != 0:\n",
    "        return memo[n-1]\n",
    "    elif n <= 2:\n",
    "        return 1\n",
    "    else:\n",
    "        memo[n-1] = mfib(n-1) + mfib(n-2)\n",
    "        return memo[n-1]"
   ]
  },
  {
   "cell_type": "code",
   "execution_count": 7,
   "metadata": {
    "collapsed": false
   },
   "outputs": [
    {
     "data": {
      "text/plain": [
       "55.0"
      ]
     },
     "execution_count": 7,
     "metadata": {},
     "output_type": "execute_result"
    }
   ],
   "source": [
    "import numpy as np\n",
    "\n",
    "n = 10\n",
    "memo = np.zeros(n)\n",
    "mfib(n)"
   ]
  },
  {
   "cell_type": "code",
   "execution_count": 8,
   "metadata": {
    "collapsed": true
   },
   "outputs": [],
   "source": [
    "# Botton-up Fibonacci\n",
    "\n",
    "def bfib(n):\n",
    "    fib = np.zeros(n)\n",
    "    for k in np.arange(n):\n",
    "        if k <= 1:\n",
    "            f = 1            \n",
    "        else:\n",
    "            f = fib[k-1] + fib[k-2]            \n",
    "\n",
    "        fib[k] = f\n",
    "        \n",
    "    return fib[-1]"
   ]
  },
  {
   "cell_type": "code",
   "execution_count": 9,
   "metadata": {
    "collapsed": false
   },
   "outputs": [
    {
     "data": {
      "text/plain": [
       "832040.0"
      ]
     },
     "execution_count": 9,
     "metadata": {},
     "output_type": "execute_result"
    }
   ],
   "source": [
    "bfib(30)"
   ]
  },
  {
   "cell_type": "code",
   "execution_count": 10,
   "metadata": {
    "collapsed": false
   },
   "outputs": [
    {
     "name": "stdout",
     "output_type": "stream",
     "text": [
      "10 loops, best of 3: 147 ms per loop\n"
     ]
    }
   ],
   "source": [
    "n = 30\n",
    "%timeit fib(30)"
   ]
  },
  {
   "cell_type": "code",
   "execution_count": 11,
   "metadata": {
    "collapsed": false
   },
   "outputs": [
    {
     "name": "stdout",
     "output_type": "stream",
     "text": [
      "The slowest run took 404.29 times longer than the fastest. This could mean that an intermediate result is being cached \n",
      "1000000 loops, best of 3: 353 ns per loop\n"
     ]
    }
   ],
   "source": [
    "memo = np.zeros(n)\n",
    "%timeit mfib(30)"
   ]
  },
  {
   "cell_type": "code",
   "execution_count": 12,
   "metadata": {
    "collapsed": false
   },
   "outputs": [
    {
     "name": "stdout",
     "output_type": "stream",
     "text": [
      "The slowest run took 7.62 times longer than the fastest. This could mean that an intermediate result is being cached \n",
      "10000 loops, best of 3: 20.1 µs per loop\n"
     ]
    }
   ],
   "source": [
    "%timeit bfib(30)"
   ]
  },
  {
   "cell_type": "markdown",
   "metadata": {},
   "source": [
    "## 2.2. Knapsack problem using Dynamic Programming (DP)\n",
    "\n",
    "From MIT Introduction to Computer Science and Programming\n",
    "\n",
    "__Knapsack problem__\n",
    "\n",
    "- burglar (or thief) can carry at most 20 kg ( = maximum capacity = 20)\n",
    "\n",
    "- Quickly decide which item to carry\n",
    "\n",
    "\n",
    "| items | 1 | 2 | 3 | 4 | 5 | 6 |\n",
    "| --- | --- | --- | --- | --- | --- | --- |\n",
    "| weight | 10 | 9 | 4 | 2 | 1 | 20 |\n",
    "| value | 175 | 90 | 20 | 50 | 10 | 200 |\n",
    "\n",
    "\n",
    "**Approach**\n",
    "\n",
    "1. guess (or trial and error)\n",
    "\n",
    "2. Exhaustive search if possible\n",
    "\n",
    "3. \"smarter way\" $\\implies$ Recursive or dynamic programming\n",
    "\n",
    "$$\n",
    "\\text{key ideas} = \\text{original problem} \\rightarrow \\begin{cases} \\text{subproblem} \\rightarrow & \\begin{cases} \\text{subproblem} \\rightarrow \\\\ \\text{subproblem} \\rightarrow \\end{cases}\\\\ \\text{subproblem} \\rightarrow & \\begin{cases} \\text{subproblem} \\rightarrow\\\\ \\text{subproblem} \\rightarrow\\end{cases}\\end{cases} \n",
    "$$\n",
    "\n",
    "<br><br>\n",
    "Suppose we have the following function:\n",
    "\n",
    "$\\quad$`[value, taken] = chooseBest(items(1:6),maxWeight)`\n",
    "\n",
    "1) item 1 is not taken\n",
    "\n",
    "$\\quad$`[v_1,t_1] = chooseBest(items(2:6),maxWeight)`\n",
    "\n",
    "   \n",
    "2) item 1 is taken\n",
    "\n",
    "$\\quad$`[v_2,t_2] = chooseBest(items(2:6),maxWeight - weights(1))`\n",
    "\n",
    "$\\quad\\qquad\\;\\;\\,$`v_2 = v_2 + values(1)`\n",
    "\n",
    "$\\qquad\\quad\\;\\;\\,$`t_2 = [items(1),t_2]`   "
   ]
  },
  {
   "cell_type": "code",
   "execution_count": 13,
   "metadata": {
    "collapsed": true
   },
   "outputs": [],
   "source": [
    "def chooseBest(items,maxWeight):\n",
    "    global weights\n",
    "    global values\n",
    "    \n",
    "    if len(items) == 0 or maxWeight <= 0:\n",
    "        value = 0\n",
    "        taken = []\n",
    "        return value, taken\n",
    "    else:\n",
    "        first = items[0]\n",
    "        w = weights[first]\n",
    "        rest = items[1:]\n",
    "        \n",
    "        # do not take the first item\n",
    "        v1,t1 = chooseBest(rest,maxWeight)\n",
    "        \n",
    "        # do take the first item\n",
    "        v2,t2 = chooseBest(rest,maxWeight - w)\n",
    "        v2 = v2 + values[first]\n",
    "        t2 = [first] + t2\n",
    "        \n",
    "        if maxWeight - w >= 0 and v2 >= v1:\n",
    "            value = v2\n",
    "            taken = t2\n",
    "        else:\n",
    "            value = v1\n",
    "            taken = t1\n",
    "        \n",
    "        return value, taken              "
   ]
  },
  {
   "cell_type": "code",
   "execution_count": 14,
   "metadata": {
    "collapsed": false
   },
   "outputs": [
    {
     "data": {
      "text/plain": [
       "(275, [0, 1, 4])"
      ]
     },
     "execution_count": 14,
     "metadata": {},
     "output_type": "execute_result"
    }
   ],
   "source": [
    "n = 6\n",
    "weights = [10,9,4,2,1,20]\n",
    "values = [175,90,20,50,10,200]\n",
    "\n",
    "items = range(n)\n",
    "maxWeight = 20\n",
    "\n",
    "chooseBest(items,maxWeight)"
   ]
  },
  {
   "cell_type": "markdown",
   "metadata": {},
   "source": [
    "## 2.3. Climbing a stair\n",
    "\n",
    "You are climbing a stair case. Each time you can either make 1 step, 2 steps, or 3 steps. How many distinct ways can you climb if the stairs has $n = 30$ steps?"
   ]
  },
  {
   "cell_type": "code",
   "execution_count": 15,
   "metadata": {
    "collapsed": true
   },
   "outputs": [],
   "source": [
    "import numpy as np\n",
    "\n",
    "def stair(n):\n",
    "    global memo\n",
    "    if memo[n] != 0:\n",
    "        m = memo[n]\n",
    "    elif n == 1:\n",
    "        m = 1\n",
    "    elif n == 2:\n",
    "        m = 2\n",
    "    elif n == 3:\n",
    "        m = 4\n",
    "    else:\n",
    "        m = stair(n-1) + stair(n-2) + stair(n-3)\n",
    "        memo[n] = m\n",
    "    return m"
   ]
  },
  {
   "cell_type": "code",
   "execution_count": 16,
   "metadata": {
    "collapsed": false
   },
   "outputs": [
    {
     "data": {
      "text/plain": [
       "53798080.0"
      ]
     },
     "execution_count": 16,
     "metadata": {},
     "output_type": "execute_result"
    }
   ],
   "source": [
    "n = 30\n",
    "global memo\n",
    "memo = np.zeros((n+1, ))\n",
    "\n",
    "stair(n)"
   ]
  },
  {
   "cell_type": "code",
   "execution_count": 17,
   "metadata": {
    "collapsed": false
   },
   "outputs": [
    {
     "data": {
      "application/javascript": [
       "$.getScript('https://kmahelona.github.io/ipython_notebook_goodies/ipython_notebook_toc.js')"
      ],
      "text/plain": [
       "<IPython.core.display.Javascript object>"
      ]
     },
     "metadata": {},
     "output_type": "display_data"
    }
   ],
   "source": [
    "%%javascript\n",
    "$.getScript('https://kmahelona.github.io/ipython_notebook_goodies/ipython_notebook_toc.js')"
   ]
  }
 ],
 "metadata": {
  "kernelspec": {
   "display_name": "Python 2",
   "language": "python",
   "name": "python2"
  },
  "language_info": {
   "codemirror_mode": {
    "name": "ipython",
    "version": 2
   },
   "file_extension": ".py",
   "mimetype": "text/x-python",
   "name": "python",
   "nbconvert_exporter": "python",
   "pygments_lexer": "ipython2",
   "version": "2.7.11"
  }
 },
 "nbformat": 4,
 "nbformat_minor": 0
}
