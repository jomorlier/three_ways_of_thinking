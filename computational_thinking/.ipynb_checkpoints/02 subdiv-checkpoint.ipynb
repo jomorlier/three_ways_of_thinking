{
 "cells": [
  {
   "cell_type": "markdown",
   "metadata": {},
   "source": [
    "Table of Contents\n",
    "<div id=\"toc\"></div>"
   ]
  },
  {
   "cell_type": "markdown",
   "metadata": {},
   "source": [
    "# Rendering\n",
    "\n",
    "**\"subdivision\" from Pixar**\n",
    "\n",
    "$$\\begin{matrix}\n",
    "1. split \\\\\n",
    "2. average \n",
    "\\end{matrix}\n",
    "\\updownarrow \\text{loop}\n",
    "$$\n",
    "\n",
    "<br>\n",
    "<img src = \"./image_files/subdiv01.png\", width = 300>\n",
    "<br>\n",
    "\n",
    "$$A_1 = \\frac{A_0 + B_0}{2}$$\n",
    "\n",
    "$$C_1 = \\frac{B_0 + C_0}{2}$$\n",
    "\n",
    "$$\\begin{align*}\n",
    "B_1 &= \\frac{A_1+ 2B_0 + C_1}{4}\\\\\n",
    "&= \\frac{1}{4}\\left( \\frac{A_0 + B_0}{2} + 2B_0 + \\frac{B_0 + C_0}{2} \\right)\\\\\n",
    "&= \\frac{A_0 + 6B_0 + C_0}{8}\n",
    "\\end{align*}$$\n",
    "\n",
    "\n",
    "$$\\begin{align*}\n",
    "\\begin{bmatrix}\n",
    "A_1 & B_1 & C_1\n",
    "\\end{bmatrix}\n",
    "&=\n",
    "\\begin{bmatrix}\n",
    "A_0 & B_0 & C_0\n",
    "\\end{bmatrix}\n",
    "\\begin{bmatrix}\n",
    "\\frac{1}{2} &\\frac{1}{8} & 0\\\\\n",
    "\\frac{1}{2} & \\frac{6}{8} & \\frac{1}{2}\\\\\n",
    "0 &  \\frac{1}{8} & \\frac{1}{2}\\\\\n",
    "\\end{bmatrix}\\\\\n",
    "\\vdots \\quad &\\\\\n",
    "\\begin{bmatrix}\n",
    "A_{k+1} & B_{k+1} & C_{k+1}\n",
    "\\end{bmatrix}\n",
    "&= \n",
    "\\begin{bmatrix}\n",
    "A_{k} & B_{k} & C_{k}\n",
    "\\end{bmatrix}P\\\\\n",
    "&= \n",
    "\\begin{bmatrix}\n",
    "A_{k-1} & B_{k-1} & C_{k-1}\n",
    "\\end{bmatrix}P^2\\\\\n",
    "&\\quad \\vdots\\\\\n",
    "&= \n",
    "\\begin{bmatrix}\n",
    "A_0 & B_0 & C_0\n",
    "\\end{bmatrix}P^{k+1}\\\\\n",
    "\\end{align*}$$\n",
    "\n",
    "$$\\Rightarrow \\text{ iteration in a computer}$$\n",
    "\n",
    "<br>\n",
    "<img src = \"./image_files/subdiv02.png\", width = 250>\n",
    "<br>"
   ]
  },
  {
   "cell_type": "markdown",
   "metadata": {},
   "source": [
    "**Question : $A_{\\infty}, B_{\\infty}, C_{\\infty}$ ?**\n",
    "\n",
    "$$\\begin{align*}\n",
    "\\begin{bmatrix}\n",
    "A_{k+1} & B_{k+1} & C_{k+1}\n",
    "\\end{bmatrix}\n",
    "&=\n",
    "\\begin{bmatrix}\n",
    "A_k & B_k & C_k\n",
    "\\end{bmatrix}\n",
    "P\\\\\n",
    "\\begin{bmatrix}\n",
    "A_{\\infty} & B_{\\infty} & C_{\\infty}\n",
    "\\end{bmatrix}\n",
    "&=\n",
    "\\begin{bmatrix}\n",
    "A_{\\infty} & B_{\\infty} & C_{\\infty}\n",
    "\\end{bmatrix}\n",
    "P \\Rightarrow \\text{fixed points}\\\\\n",
    "+ A_{\\infty} = B_{\\infty} = C_{\\infty} & \\text{ (i.e, converges to a single point)}\\\\\n",
    "\\end{align*}$$\n",
    "\n",
    "$$\\begin{align*}\n",
    "\\begin{bmatrix}\n",
    "A_{k} & B_{k} & C_{k}\n",
    "\\end{bmatrix}\n",
    "\\begin{bmatrix}\n",
    "\\frac{1}{6}\\\\\n",
    "\\frac{4}{6}\\\\\n",
    "\\frac{1}{6}\\\\\n",
    "\\end{bmatrix}\n",
    "&= \n",
    "\\begin{bmatrix}\n",
    "A_{k} & B_{k} & C_{k}\n",
    "\\end{bmatrix}\n",
    "\\begin{bmatrix}\n",
    "\\frac{1}{2} &\\frac{1}{8} & 0\\\\\n",
    "\\frac{1}{2} & \\frac{6}{8} & \\frac{1}{2}\\\\\n",
    "0 &  \\frac{1}{8} & \\frac{1}{2}\\\\\n",
    "\\end{bmatrix}\n",
    "\\begin{bmatrix}\n",
    "\\frac{1}{6}\\\\\n",
    "\\frac{4}{6}\\\\\n",
    "\\frac{1}{6}\\\\\n",
    "\\end{bmatrix}\\\\\n",
    "&= \n",
    "\\begin{bmatrix}\n",
    "A_{k} & B_{k} & C_{k}\n",
    "\\end{bmatrix}\n",
    "\\begin{bmatrix}\n",
    "\\frac{1}{6}\\\\\n",
    "\\frac{4}{6}\\\\\n",
    "\\frac{1}{6}\\\\\n",
    "\\end{bmatrix}\n",
    "=\n",
    "\\cdots\n",
    "=\n",
    "\\begin{bmatrix}\n",
    "A_{0} & B_{0} & C_{0}\n",
    "\\end{bmatrix}\n",
    "\\begin{bmatrix}\n",
    "\\frac{1}{6}\\\\\n",
    "\\frac{4}{6}\\\\\n",
    "\\frac{1}{6}\\\\\n",
    "\\end{bmatrix}\n",
    "\\end{align*}$$\n",
    "\n",
    "$$\\Rightarrow \\frac{B_{\\infty} + 4B_{\\infty} + B_{\\infty}}{6} = B_{\\infty} = \\frac{A_0 + 4B_0 + C_0}{6}$$"
   ]
  },
  {
   "cell_type": "markdown",
   "metadata": {},
   "source": [
    "**Remark)**\n",
    "\n",
    "$$v = \n",
    "\\begin{bmatrix}\n",
    "\\frac{1}{6}\\\\\n",
    "\\frac{4}{6}\\\\\n",
    "\\frac{1}{6}\\\\\n",
    "\\end{bmatrix}\n",
    "\\text{ eigenvector of } P, v = Pv$$\n",
    "\n",
    "$$\\text{ fixed Point Problem = eigen-analysis (eigenvector with } \\lambda = 1)$$"
   ]
  },
  {
   "cell_type": "code",
   "execution_count": 1,
   "metadata": {
    "collapsed": false
   },
   "outputs": [
    {
     "data": {
      "application/javascript": [
       "$.getScript('https://kmahelona.github.io/ipython_notebook_goodies/ipython_notebook_toc.js')"
      ],
      "text/plain": [
       "<IPython.core.display.Javascript object>"
      ]
     },
     "metadata": {},
     "output_type": "display_data"
    }
   ],
   "source": [
    "%%javascript\n",
    "$.getScript('https://kmahelona.github.io/ipython_notebook_goodies/ipython_notebook_toc.js')"
   ]
  },
  {
   "cell_type": "code",
   "execution_count": null,
   "metadata": {
    "collapsed": true
   },
   "outputs": [],
   "source": []
  }
 ],
 "metadata": {
  "kernelspec": {
   "display_name": "Python 2",
   "language": "python",
   "name": "python2"
  },
  "language_info": {
   "codemirror_mode": {
    "name": "ipython",
    "version": 2
   },
   "file_extension": ".py",
   "mimetype": "text/x-python",
   "name": "python",
   "nbconvert_exporter": "python",
   "pygments_lexer": "ipython2",
   "version": "2.7.11"
  }
 },
 "nbformat": 4,
 "nbformat_minor": 0
}
