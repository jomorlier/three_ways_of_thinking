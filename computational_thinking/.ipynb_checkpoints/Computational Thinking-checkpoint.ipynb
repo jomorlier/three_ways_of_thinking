{
 "cells": [
  {
   "cell_type": "markdown",
   "metadata": {},
   "source": [
    "<font size='6'><b>Computational Thinking</b></font>\n",
    "\n",
    "<table style=\"border-style: hidden; border-collapse: collapse;\" width = \"80%\"> \n",
    "    <tr style=\"border-style: hidden; border-collapse: collapse;\">\n",
    "        <td width = 60% style=\"border-style: hidden; border-collapse: collapse;\">\n",
    "        </td>\n",
    "        <td width = 20%>\n",
    "By Seungchul Lee<br>http://isystems.unist.ac.kr/<br>UNIST\n",
    "        </td>\n",
    "    </tr>    \n",
    "</table>\n",
    "\n",
    "Table of Contents\n",
    "<div id=\"toc\"></div>"
   ]
  },
  {
   "cell_type": "markdown",
   "metadata": {},
   "source": [
    "# 1. Fixed-Point Iteration\n",
    "\n",
    "## 1.1. Numerical approach\n",
    "\n",
    "For the given equation:\n",
    "\n",
    "$$f(x) = 0 \\implies x = g(x)$$\n",
    "\n",
    "Remark: always achievable \n",
    "\n",
    "$$\n",
    "\\begin{align*}\n",
    "x & = f(x) + x = g(x)\\\\\n",
    "x &= -f(x) + x = g(x)\n",
    "\\end{align*}\n",
    "$$\n",
    "\n",
    "Goal: _numerically_ find the solution of $x = g(x)$\n",
    "\n",
    "Main idea: \n",
    "\n",
    "- Make a guess of the solution, $x_k$\n",
    "\n",
    "- If $g(x_k)$ is 'nice', then hopefully, $g(x_k)$ will be closer to the answer. If so, we can iterate"
   ]
  },
  {
   "cell_type": "markdown",
   "metadata": {},
   "source": [
    "__Iteration algorithm__\n",
    "\n",
    "1. choose an initial point $x_0$\n",
    "2. Do the iteration $x_{k+1} = g(x_k)$ unitl meeting stop criteria\n",
    "\n",
    "\n",
    "__Convergence check (or analysis)__\n",
    "\n",
    "$\\quad$ Let $r$ be the exact solution, $r = g(r)$\n",
    "\n",
    "$$\n",
    "\\begin{array}{l}\n",
    "x_{k+1} &= g(x_k)\\\\\n",
    "\\text{error} :&\\quad e_k &= x_k - r\\\\\n",
    "&\\quad e_{k+1} &= x_{k+1} - r = g(x_k) - g(r)\\\\\n",
    "&&= g'(\\eta)(x_k - r) = g'(\\eta)e_k , \\quad \\eta \\in (x_k, r)\\\\ \\\\\n",
    "&\\implies \\lvert e_{k+1}\\rvert &\\leq \\lvert g'(\\eta)\\rvert \\lvert e_k \\rvert\\\\\n",
    "\\end{array}\n",
    "$$\n",
    "\n",
    "<br>\n",
    "$$\\text{If } \\lvert g'(\\eta) \\rvert <1, \\text{error decreases (iteration converges)}$$\n",
    "\n"
   ]
  },
  {
   "cell_type": "markdown",
   "metadata": {},
   "source": [
    "__Example of $x = \\cos(x)$__"
   ]
  },
  {
   "cell_type": "code",
   "execution_count": 11,
   "metadata": {
    "collapsed": false,
    "scrolled": true
   },
   "outputs": [
    {
     "data": {
      "image/png": "[encoded data removed]",
      "text/plain": [
       "<matplotlib.figure.Figure at 0xa86fbe0>"
      ]
     },
     "metadata": {},
     "output_type": "display_data"
    }
   ],
   "source": [
    "# Computational Thinking on how to calculate cos(x) = x\n",
    "\n",
    "import numpy as np\n",
    "import matplotlib.pyplot as plt\n",
    "% matplotlib inline\n",
    "\n",
    "x = np.linspace(-2*np.pi, 2*np.pi, 100)\n",
    "y = np.cos(x)\n",
    "\n",
    "plt.plot(x, y, linewidth = 2)\n",
    "plt.plot(x, x, linewidth = 2)\n",
    "plt.xlim(-2*np.pi, 2*np.pi)\n",
    "plt.axvline(x=0, color = 'k', linestyle = '--')\n",
    "plt.axhline(y=0, color = 'k', linestyle = '--')\n",
    "plt.legend(['cos(x)','x'])\n",
    "plt.show()"
   ]
  },
  {
   "cell_type": "code",
   "execution_count": 12,
   "metadata": {
    "collapsed": false
   },
   "outputs": [
    {
     "name": "stdout",
     "output_type": "stream",
     "text": [
      "0.955336489126\n",
      "0.577334044471\n",
      "0.837920683127\n",
      "0.669009730822\n",
      "0.784436224742\n",
      "0.707786647276\n",
      "0.759802755285\n"
     ]
    }
   ],
   "source": [
    "# naive approach\n",
    "\n",
    "x = 0.3\n",
    "print (np.cos(x))\n",
    "print (np.cos(np.cos(x)))\n",
    "print (np.cos(np.cos(np.cos(x))))\n",
    "print (np.cos(np.cos(np.cos(np.cos(x)))))\n",
    "print (np.cos(np.cos(np.cos(np.cos(np.cos(x))))))\n",
    "print (np.cos(np.cos(np.cos(np.cos(np.cos(np.cos(x)))))))\n",
    "print (np.cos(np.cos(np.cos(np.cos(np.cos(np.cos(np.cos(x))))))))"
   ]
  },
  {
   "cell_type": "code",
   "execution_count": 13,
   "metadata": {
    "collapsed": false
   },
   "outputs": [
    {
     "name": "stdout",
     "output_type": "stream",
     "text": [
      "0.739085087856\n"
     ]
    }
   ],
   "source": [
    "# better way\n",
    "\n",
    "x = 0.3\n",
    "\n",
    "for i in range(20):\n",
    "    tmp = np.cos(x)\n",
    "    x = np.cos(tmp)\n",
    "    \n",
    "print (x)"
   ]
  },
  {
   "cell_type": "code",
   "execution_count": 14,
   "metadata": {
    "collapsed": false
   },
   "outputs": [
    {
     "name": "stdout",
     "output_type": "stream",
     "text": [
      "[[ 0.3       ]\n",
      " [ 0.95533649]\n",
      " [ 0.57733404]\n",
      " [ 0.83792068]\n",
      " [ 0.66900973]\n",
      " [ 0.78443622]\n",
      " [ 0.70778665]\n",
      " [ 0.75980276]\n",
      " [ 0.72497188]\n",
      " [ 0.74851807]\n",
      " [ 0.73269821]\n",
      " [ 0.74337234]\n",
      " [ 0.73619044]\n",
      " [ 0.74103194]\n",
      " [ 0.73777234]\n",
      " [ 0.73996881]\n",
      " [ 0.73848959]\n",
      " [ 0.73948617]\n",
      " [ 0.73881493]\n",
      " [ 0.73926712]\n",
      " [ 0.73896253]\n",
      " [ 0.73916771]\n",
      " [ 0.73902951]\n",
      " [ 0.7391226 ]]\n"
     ]
    }
   ],
   "source": [
    "# better way\n",
    "\n",
    "x = np.zeros((24, 1))\n",
    "x[0] = 0.3\n",
    "\n",
    "for i in range(23):\n",
    "    x[i+1] = np.cos(x[i])\n",
    "    \n",
    "print (x)"
   ]
  },
  {
   "cell_type": "code",
   "execution_count": 15,
   "metadata": {
    "collapsed": false
   },
   "outputs": [
    {
     "name": "stdout",
     "output_type": "stream",
     "text": [
      "0.739073544468\n"
     ]
    }
   ],
   "source": [
    "x = 10\n",
    "for i in range(24):\n",
    "    x = np.cos(x)\n",
    "\n",
    "print (x)"
   ]
  },
  {
   "cell_type": "code",
   "execution_count": 16,
   "metadata": {
    "collapsed": false
   },
   "outputs": [
    {
     "name": "stderr",
     "output_type": "stream",
     "text": [
      "D:\\Anaconda\\lib\\site-packages\\matplotlib\\backend_bases.py:2399: MatplotlibDeprecationWarning: Using default event loop until function specific to this GUI is implemented\n",
      "  warnings.warn(str, mplDeprecation)\n"
     ]
    }
   ],
   "source": [
    "% matplotlib qt\n",
    "# result display\n",
    "\n",
    "x = 0.3\n",
    "\n",
    "ps = 0.3\n",
    "t = np.arange(0,1.2,0.01)\n",
    "\n",
    "plt.plot(t, t, 'k')\n",
    "plt.plot(t, np.cos(t), 'k')\n",
    "plt.plot([x, x], [0, np.cos(x)], 'r:')\n",
    "plt.xlim([0, 1.2])\n",
    "plt.ylim([0, 1.2])\n",
    "plt.plot(x, np.cos(x), 'bo')\n",
    "plt.pause(ps)\n",
    "for i in range(9):\n",
    "    plt.plot([x,np.cos(x)],[np.cos(x),np.cos(x)],'r:')\n",
    "    plt.pause(ps)\n",
    "    plt.plot([np.cos(x),np.cos(x)],[np.cos(x),np.cos(np.cos(x))],'r:')\n",
    "    x = np.cos(x);    \n",
    "    plt.plot(x,np.cos(x),'bo')\n",
    "        \n",
    "    plt.pause(ps) \n",
    "     "
   ]
  },
  {
   "cell_type": "markdown",
   "metadata": {},
   "source": [
    "## 1.2. Newton's Method\n",
    "\n",
    "Goal: Given $f(x)$, find a root $x^*$ such that $f(x^*)=0$\n",
    "\n",
    "Once we have $x_k$, the next approximation $x_{k+1}$ is given \n",
    "\n",
    "$$ x_{k+1} \\leftarrow x_k - \\frac{f(x_k)}{f'(x_k)} $$\n",
    "\n",
    "- Graphical interpretation\n",
    "\n",
    "<img src=\"./image_files/Newtons.png\" width = 300>\n",
    "\n",
    "- View it as a fixed point iteration\n",
    "\n",
    "$$ x_{k+1}=g(x_k), \\quad g(x) = x-\\frac{f(x_k)}{f'(x_k)} $$\n",
    "\n",
    "If $x^*$ ia s fixed point,\n",
    "\n",
    "$$ x^* = g(x^*) = x^* - \\frac{f(x^*)}{f'(x^*)} \\implies f(x^*)=0 \\quad \\text{if}\\; f'(x^*) \\neq 0$$\n"
   ]
  },
  {
   "cell_type": "code",
   "execution_count": 17,
   "metadata": {
    "collapsed": false
   },
   "outputs": [
    {
     "name": "stdout",
     "output_type": "stream",
     "text": [
      "0.739085133215\n"
     ]
    }
   ],
   "source": [
    "# Newton's Method\n",
    "\n",
    "x = 0.1\n",
    "\n",
    "for i in range(10):\n",
    "    x = x - (np.cos(x)- x)/(-np.sin(x) - 1)\n",
    "    \n",
    "print(x)"
   ]
  },
  {
   "cell_type": "code",
   "execution_count": 18,
   "metadata": {
    "collapsed": false
   },
   "outputs": [
    {
     "name": "stdout",
     "output_type": "stream",
     "text": [
      "0.739085133215\n"
     ]
    },
    {
     "data": {
      "image/png": "[encoded data removed]",
      "text/plain": [
       "<matplotlib.figure.Figure at 0xa86ff98>"
      ]
     },
     "metadata": {},
     "output_type": "display_data"
    },
    {
     "data": {
      "image/png": "[encoded data removed]",
      "text/plain": [
       "<matplotlib.figure.Figure at 0xbabb5f8>"
      ]
     },
     "metadata": {},
     "output_type": "display_data"
    }
   ],
   "source": [
    "% matplotlib inline\n",
    "# result display\n",
    "\n",
    "x = np.linspace(-2*np.pi, 2*np.pi, 200)\n",
    "y = np.cos(x) - x\n",
    "\n",
    "plt.figure(2)\n",
    "plt.plot(x, y, linewidth = 2)\n",
    "plt.xlim(-2*np.pi, 2*np.pi)\n",
    "plt.axvline(x=0, color = 'k', linestyle = '--')\n",
    "plt.axhline(y=0, color = 'k', linestyle = '--')\n",
    "plt.legend(['y = cos(x) - x'])\n",
    "\n",
    "plt.figure(3)\n",
    "plt.plot(x, y, linewidth = 2)\n",
    "plt.axvline(x=0, color = 'k', linestyle = '--')\n",
    "plt.axhline(y=0, color = 'k', linestyle = '--')\n",
    "plt.legend(['y = cos(x) - x'])\n",
    "\n",
    "x = 0.1 # initial guess\n",
    "for i in range(10):\n",
    "    plt.plot(x, np.cos(x)-x, 'ro')\n",
    "    plt.plot([x, x], [0, np.cos(x)-x], 'r:')\n",
    "    x_next = x - (np.cos(x) - x)/(-np.sin(x)-1)\n",
    "    plt.plot([x, x_next], [np.cos(x)-x, 0], 'r:')\n",
    "    x = x_next\n",
    "plt.xlim([-0.02, 1])\n",
    "plt.ylim([-0.4, 0.95])\n",
    "\n",
    "print(x)"
   ]
  },
  {
   "cell_type": "markdown",
   "metadata": {},
   "source": [
    "__example of $\\sqrt{2} \\;(x^2 = 2)$__"
   ]
  },
  {
   "cell_type": "code",
   "execution_count": 19,
   "metadata": {
    "collapsed": false
   },
   "outputs": [
    {
     "name": "stdout",
     "output_type": "stream",
     "text": [
      "2\n"
     ]
    }
   ],
   "source": [
    "# Use an idea of a fixed point\n",
    "x = 2\n",
    "for i in range(10):\n",
    "    x = 2/x\n",
    "\n",
    "print (x)"
   ]
  },
  {
   "cell_type": "code",
   "execution_count": 20,
   "metadata": {
    "collapsed": false
   },
   "outputs": [
    {
     "name": "stderr",
     "output_type": "stream",
     "text": [
      "D:\\Anaconda\\lib\\site-packages\\ipykernel\\__main__.py:9: RuntimeWarning: divide by zero encountered in divide\n",
      "D:\\Anaconda\\lib\\site-packages\\ipykernel\\__main__.py:15: RuntimeWarning: divide by zero encountered in divide\n"
     ]
    },
    {
     "data": {
      "image/png": "[encoded data removed]",
      "text/plain": [
       "<matplotlib.figure.Figure at 0xc66a860>"
      ]
     },
     "metadata": {},
     "output_type": "display_data"
    }
   ],
   "source": [
    "# Graphical Explanation (oscillating)\n",
    "\n",
    "%matplotlib qt\n",
    "t = np.arange(0, 3, 0.01)\n",
    "x = 2\n",
    "plt.figure(1)\n",
    "for i in range(10):\n",
    "    plt.clf()\n",
    "    h = plt.plot(t,t,'k',t,2/t,'k',x,2/x,'ro');  \n",
    "    plt.xlim([0, 3])\n",
    "    plt.ylim([0, 3])\n",
    "    x = 2/x\n",
    "    plt.pause(0.5)\n",
    "% matplotlib inline\n",
    "h = plt.plot(t,t,'k',t,2/t,'k',x,2/x,'ro');\n",
    "plt.xlim([0, 3])\n",
    "plt.ylim([0, 3])\n",
    "plt.show()"
   ]
  },
  {
   "cell_type": "code",
   "execution_count": 21,
   "metadata": {
    "collapsed": false
   },
   "outputs": [
    {
     "name": "stdout",
     "output_type": "stream",
     "text": [
      "1\n"
     ]
    }
   ],
   "source": [
    "# How to overcome \n",
    "# Use an idea of a fixed point + kind of *|damping|*\n",
    "\n",
    "x = 3\n",
    "for i in range(10):\n",
    "    x = (x + 2/x)/2\n",
    "    \n",
    "print (x)"
   ]
  },
  {
   "cell_type": "code",
   "execution_count": 22,
   "metadata": {
    "collapsed": false
   },
   "outputs": [
    {
     "name": "stderr",
     "output_type": "stream",
     "text": [
      "D:\\Anaconda\\lib\\site-packages\\ipykernel\\__main__.py:7: RuntimeWarning: divide by zero encountered in divide\n",
      "D:\\Anaconda\\lib\\site-packages\\ipykernel\\__main__.py:14: RuntimeWarning: divide by zero encountered in divide\n"
     ]
    },
    {
     "data": {
      "image/png": "[encoded data removed]",
      "text/plain": [
       "<matplotlib.figure.Figure at 0xc2e06a0>"
      ]
     },
     "metadata": {},
     "output_type": "display_data"
    }
   ],
   "source": [
    "%matplotlib qt\n",
    "t = np.arange(0, 3, 0.01)\n",
    "x = 3\n",
    "plt.figure(1)\n",
    "for i in range(10):\n",
    "    plt.clf()\n",
    "    h = plt.plot(t,t,'k',t,2/t,'k',x,(x + 2/x)/2,'ro');  \n",
    "    plt.xlim([0, 3])\n",
    "    plt.ylim([0, 3])\n",
    "    x = (x + 2/x)/2\n",
    "    plt.pause(0.5)\n",
    "    \n",
    "% matplotlib inline\n",
    "h = plt.plot(t,t,'k',t,2/t,'k',x,2/x,'ro');\n",
    "plt.xlim([0, 3])\n",
    "plt.ylim([0, 3])\n",
    "plt.show()"
   ]
  },
  {
   "cell_type": "markdown",
   "metadata": {},
   "source": [
    "## 1.3. System of Linear Equations\n",
    "\n",
    "$$\n",
    "\\begin{align*}\n",
    "4x_1 - x_2 + x_3 &= 7 &  x_1 &= \\frac{1}{4}x_2 - \\frac{1}{4}x_3 + \\frac{7}{4}\\\\\n",
    "4x_1 - 8x_2 + x_3 &= -21  & \\implies \\quad x_2 &= \\frac{1}{2}x_1 + \\frac{1}{8}x_3 + \\frac{21}{8}\\\\\n",
    "-2x_1 + x_2 + 5x_3 &= 15 & x_3 &= \\frac{2}{5}x_1 - \\frac{1}{5}x_2 + \\frac{15}{5}\n",
    "\\end{align*}\n",
    "$$\n",
    "\n",
    "- In a matrix form\n",
    "\n",
    "$$\\begin{bmatrix}\n",
    "x_1\\\\\n",
    "x_2\\\\\n",
    "x_3\\\\\n",
    "\\end{bmatrix}\n",
    "=\n",
    "\\begin{bmatrix}\n",
    "0 &\\frac{1}{4} & - \\frac{1}{4}\\\\\n",
    "\\frac{1}{2} & 0 & \\frac{1}{8}\\\\\n",
    "\\frac{2}{5} & -\\frac{1}{5} & 0\\\\\n",
    "\\end{bmatrix}\n",
    "\\begin{bmatrix}\n",
    "x_1\\\\\n",
    "x_2\\\\\n",
    "x_3\\\\\n",
    "\\end{bmatrix}\n",
    "+\n",
    "\\begin{bmatrix}\n",
    "\\frac{7}{4}\\\\\n",
    "\\frac{21}{8}\\\\\n",
    "3\\\\\n",
    "\\end{bmatrix}\n",
    "$$\n",
    "\n",
    "- iteration\n",
    "\n",
    "$$\n",
    "\\begin{bmatrix}\n",
    "x_1^{(k+1)}\\\\\n",
    "x_2^{(k+1)}\\\\\n",
    "x_3^{(k+1)}\\\\\n",
    "\\end{bmatrix}\n",
    "=\n",
    "\\begin{bmatrix}\n",
    "0 &\\frac{1}{4} & - \\frac{1}{4}\\\\\n",
    "\\frac{1}{2} & 0 & \\frac{1}{8}\\\\\n",
    "\\frac{2}{5} & -\\frac{1}{5} & 0\\\\\n",
    "\\end{bmatrix}\n",
    "\\begin{bmatrix}\n",
    "x_1^{(k)}\\\\\n",
    "x_2^{(k)}\\\\\n",
    "x_3^{(k)}\\\\\n",
    "\\end{bmatrix}\n",
    "+\n",
    "\\begin{bmatrix}\n",
    "\\frac{7}{4}\\\\\n",
    "\\frac{21}{8}\\\\\n",
    "3\\\\\n",
    "\\end{bmatrix}\n",
    "$$"
   ]
  },
  {
   "cell_type": "code",
   "execution_count": 23,
   "metadata": {
    "collapsed": false
   },
   "outputs": [
    {
     "name": "stdout",
     "output_type": "stream",
     "text": [
      "[[ 2.]\n",
      " [ 4.]\n",
      " [ 3.]]\n"
     ]
    }
   ],
   "source": [
    "import numpy as np\n",
    "import matplotlib.pyplot as plt\n",
    "\n",
    "# matrix inverse\n",
    "\n",
    "A = np.array([[4, -1, 1], [4, -8, 1], [-2, 1, 5]])\n",
    "b = np.array([[7, -21, 15]]).T\n",
    "\n",
    "x = np.linalg.inv(A).dot(b)\n",
    "\n",
    "print (x)"
   ]
  },
  {
   "cell_type": "code",
   "execution_count": 24,
   "metadata": {
    "collapsed": false
   },
   "outputs": [
    {
     "name": "stdout",
     "output_type": "stream",
     "text": [
      "[[0]\n",
      " [2]\n",
      " [1]]\n"
     ]
    }
   ],
   "source": [
    "# Iterative way\n",
    "\n",
    "A = np.array(([[0, 1/4, -1/4 ], [4/8, 0, 1/8], [2/5, -1/5, 0]]))\n",
    "b = np.array([[7/4, 21/8, 15/5]]).T\n",
    "\n",
    "# initial point\n",
    "x = np.array([[1, 2, 2]]).T\n",
    "\n",
    "for i in range(10):\n",
    "    x = A.dot(x) + b\n",
    "    \n",
    "print (x)\n"
   ]
  },
  {
   "cell_type": "markdown",
   "metadata": {},
   "source": [
    "**Remark) try this one **\n",
    "\n",
    "$$\n",
    "\\begin{align*}\n",
    "x_1 &= -3x_1 + x_2 - x_3 + 7\\\\\n",
    "x_2 &= 4x_1 - 7x_2 + x_3 + 21\\\\\n",
    "x_3 &= 2x_1 - x_2 + -4x_3 + 15\n",
    "\\end{align*}\n",
    "$$\n",
    "\n",
    "$$\\begin{bmatrix}\n",
    "x_1\\\\\n",
    "x_2\\\\\n",
    "x_3\\\\\n",
    "\\end{bmatrix}\n",
    "\\leftarrow\n",
    "\\begin{bmatrix}\n",
    "-3 & 1 & -1 \\\\\n",
    "4 & -7 & 1 \\\\\n",
    "2 & -1 & -4\n",
    "\\end{bmatrix}\n",
    "\\begin{bmatrix}\n",
    "x_1\\\\\n",
    "x_2\\\\\n",
    "x_3\\\\\n",
    "\\end{bmatrix}\n",
    "+\n",
    "\\begin{bmatrix}\n",
    "7\\\\\n",
    "21\\\\\n",
    "15\\\\\n",
    "\\end{bmatrix}\n",
    "$$\n",
    "\n",
    "**Convergence check**\n",
    "\n",
    "$$x \\leftarrow Ax + b$$\n",
    "\n",
    "$$\\begin{align*}\n",
    "x_{k+1} &= Ax_k +b\\\\\n",
    "&= A(Ax_{k-1} + b) + b = A^2X_{k-1} + Ab + b\\\\\n",
    "& \\vdots\\\\\n",
    "&= A^{k+1}x_0 + A^kb + \\vdots + Ab + b\n",
    "\\end{align*}$$"
   ]
  },
  {
   "cell_type": "code",
   "execution_count": 25,
   "metadata": {
    "collapsed": false
   },
   "outputs": [
    {
     "name": "stdout",
     "output_type": "stream",
     "text": [
      "[[1076845340]\n",
      " [ 660465147]\n",
      " [-237408283]]\n"
     ]
    }
   ],
   "source": [
    "# think about why this one does not work\n",
    "\n",
    "A = np.array(([[3, 1, -1 ], [4, 7, 1], [2, -1, -4]]))\n",
    "b = np.array([[7, 21, 15]]).T\n",
    "\n",
    "# initial point\n",
    "x = np.array([[1, 2, 2]]).T\n",
    "\n",
    "for i in range(10):\n",
    "    x = A.dot(x) + b\n",
    "    \n",
    "print (x)"
   ]
  },
  {
   "cell_type": "markdown",
   "metadata": {},
   "source": [
    "## 1.4. Rendering\n",
    "\n",
    "- \"subdivision\" from Pixar\n",
    "\n",
    "$$\n",
    "\\begin{align*}\n",
    "\\text{split} \\quad &\\longleftrightarrow \\quad \\text{average} \\\\\n",
    "& \\text{ loop}\n",
    "\\end{align*}\n",
    "$$\n",
    "\n",
    "<table style=\"border-style: hidden; border-collapse: collapse;\" width = \"90%\"> \n",
    "    <tr style=\"border-style: hidden; border-collapse: collapse;\">\n",
    "        <td width = 50% style=\"border-style: hidden; border-collapse: collapse;\">\n",
    "$$\n",
    "\\begin{align*}\n",
    "A_1 &= \\frac{A_0 + B_0}{2} \\\\\n",
    "C_1 &= \\frac{B_0 + C_0}{2} \\\\ \\\\\n",
    "B_1 &= \\frac{A_1+ 2B_0 + C_1}{4}\\\\\n",
    "&= \\frac{1}{4}\\left( \\frac{A_0 + B_0}{2} + 2B_0 + \\frac{B_0 + C_0}{2} \\right)\\\\\n",
    "&= \\frac{A_0 + 6B_0 + C_0}{8}\n",
    "\\end{align*}\n",
    "$$\n",
    "        </td>\n",
    "        <td width = 40%>\n",
    "            <img src = \"./image_files/subdiv01.png\", width = 300>\n",
    "        </td>\n",
    "    </tr>\n",
    "</table>\n",
    "\n",
    "- In a matrix form\n",
    "\n",
    "<table style=\"border-style: hidden; border-collapse: collapse;\" width = \"90%\"> \n",
    "    <tr style=\"border-style: hidden; border-collapse: collapse;\">\n",
    "        <td width = 50% style=\"border-style: hidden; border-collapse: collapse;\">\n",
    "$$\\begin{align*}\n",
    "\\begin{bmatrix}\n",
    "A_1 & B_1 & C_1\n",
    "\\end{bmatrix}\n",
    "&=\n",
    "\\begin{bmatrix}\n",
    "A_0 & B_0 & C_0\n",
    "\\end{bmatrix}\n",
    "\\underbrace{\\begin{bmatrix}\n",
    "\\frac{1}{2} &\\frac{1}{8} & 0\\\\\n",
    "\\frac{1}{2} & \\frac{6}{8} & \\frac{1}{2}\\\\\n",
    "0 &  \\frac{1}{8} & \\frac{1}{2}\\\\\n",
    "\\end{bmatrix}}_P\n",
    "\\\\ \\\\\n",
    "& \\; \\vdots \\\\ \\\\\n",
    "\\begin{bmatrix}\n",
    "A_{k+1} & B_{k+1} & C_{k+1}\n",
    "\\end{bmatrix}\n",
    "&= \n",
    "\\begin{bmatrix}\n",
    "A_{k} & B_{k} & C_{k}\n",
    "\\end{bmatrix}P\\\\\n",
    "&= \n",
    "\\begin{bmatrix}\n",
    "A_{k-1} & B_{k-1} & C_{k-1}\n",
    "\\end{bmatrix}P^2\\\\ \\\\\n",
    "& \\;\\vdots\\\\ \\\\\n",
    "&= \n",
    "\\begin{bmatrix}\n",
    "A_0 & B_0 & C_0\n",
    "\\end{bmatrix}P^{k+1}\\\\ \\\\\n",
    "&\\implies \\text{ iteration in a computer}\n",
    "\\end{align*}$$\n",
    "        </td>\n",
    "        <td width = 40%>\n",
    "            <img src = \"./image_files/subdiv02.png\", width = 250>\n",
    "        </td>\n",
    "    </tr>\n",
    "</table>"
   ]
  },
  {
   "cell_type": "markdown",
   "metadata": {},
   "source": [
    "- Question : $A_{\\infty}, B_{\\infty}, C_{\\infty}$ ?\n",
    "\n",
    "$$\\begin{align*}\n",
    "\\begin{bmatrix}\n",
    "A_{k+1} & B_{k+1} & C_{k+1}\n",
    "\\end{bmatrix}\n",
    "&=\n",
    "\\begin{bmatrix}\n",
    "A_k & B_k & C_k\n",
    "\\end{bmatrix}\n",
    "P\\\\\n",
    "\\begin{bmatrix}\n",
    "A_{\\infty} & B_{\\infty} & C_{\\infty}\n",
    "\\end{bmatrix}\n",
    "&=\n",
    "\\begin{bmatrix}\n",
    "A_{\\infty} & B_{\\infty} & C_{\\infty}\n",
    "\\end{bmatrix}\n",
    "P \\implies \\text{fixed points}\\\\\n",
    "+ \\\\\n",
    "A_{\\infty} = B_{\\infty} = C_{\\infty} & \\text{ (i.e, converges to a single point)}\\\\\n",
    "\\end{align*}$$\n",
    "\n",
    "<br><br>\n",
    "\n",
    "$$\\begin{align*}\n",
    "\\begin{bmatrix}\n",
    "A_{k+1} & B_{k+1} & C_{k+1}\n",
    "\\end{bmatrix}\n",
    "\\begin{bmatrix}\n",
    "\\frac{1}{6}\\\\\n",
    "\\frac{4}{6}\\\\\n",
    "\\frac{1}{6}\\\\\n",
    "\\end{bmatrix}\n",
    "&= \n",
    "\\begin{bmatrix}\n",
    "A_{k} & B_{k} & C_{k}\n",
    "\\end{bmatrix}\n",
    "\\begin{bmatrix}\n",
    "\\frac{1}{2} &\\frac{1}{8} & 0\\\\\n",
    "\\frac{1}{2} & \\frac{6}{8} & \\frac{1}{2}\\\\\n",
    "0 &  \\frac{1}{8} & \\frac{1}{2}\\\\\n",
    "\\end{bmatrix}\n",
    "\\begin{bmatrix}\n",
    "\\frac{1}{6}\\\\\n",
    "\\frac{4}{6}\\\\\n",
    "\\frac{1}{6}\\\\\n",
    "\\end{bmatrix}\\\\\n",
    "&= \n",
    "\\begin{bmatrix}\n",
    "A_{k} & B_{k} & C_{k}\n",
    "\\end{bmatrix}\n",
    "\\begin{bmatrix}\n",
    "\\frac{1}{6}\\\\\n",
    "\\frac{4}{6}\\\\\n",
    "\\frac{1}{6}\\\\\n",
    "\\end{bmatrix}\n",
    "=\n",
    "\\cdots\n",
    "=\n",
    "\\begin{bmatrix}\n",
    "A_{0} & B_{0} & C_{0}\n",
    "\\end{bmatrix}\n",
    "\\begin{bmatrix}\n",
    "\\frac{1}{6}\\\\\n",
    "\\frac{4}{6}\\\\\n",
    "\\frac{1}{6}\\\\\n",
    "\\end{bmatrix}\n",
    "\\end{align*}$$\n",
    "\n",
    "$$\\implies \\frac{B_{\\infty} + 4B_{\\infty} + B_{\\infty}}{6} = B_{\\infty} = \\frac{A_0 + 4B_0 + C_0}{6}$$"
   ]
  },
  {
   "cell_type": "markdown",
   "metadata": {},
   "source": [
    "**Remark)**\n",
    "\n",
    "$$v = \n",
    "\\begin{bmatrix}\n",
    "\\frac{1}{6}\\\\\n",
    "\\frac{4}{6}\\\\\n",
    "\\frac{1}{6}\\\\\n",
    "\\end{bmatrix}=\n",
    "\\text{ eigenvector of } P,\\; v = Pv$$\n",
    "\n",
    "$$\\text{ Fixed Point Problem = eigen-analysis (eigenvector with } \\lambda = 1)$$"
   ]
  },
  {
   "cell_type": "code",
   "execution_count": 1,
   "metadata": {
    "collapsed": false
   },
   "outputs": [
    {
     "data": {
      "text/html": [
       "<iframe width=\"560\" height=\"315\" \n",
       "src=\"https://www.youtube.com/embed/xFZazwvYc5o\" \n",
       "frameborder=\"0\" allowfullscreen></iframe>"
      ],
      "text/plain": [
       "<IPython.core.display.HTML object>"
      ]
     },
     "metadata": {},
     "output_type": "display_data"
    }
   ],
   "source": [
    "%%html\n",
    "<iframe width=\"560\" height=\"315\" \n",
    "src=\"https://www.youtube.com/embed/xFZazwvYc5o\" \n",
    "frameborder=\"0\" allowfullscreen></iframe>"
   ]
  },
  {
   "cell_type": "markdown",
   "metadata": {},
   "source": [
    "# 2. Recursive Algorithm\n",
    "\n",
    "- one of the central ideas of computer science\n",
    "\n",
    "- depends on solutions to smaller instances of the same problem ( = subproblem)\n",
    "\n",
    "- function to call itself (it is impossible in the real world)\n",
    "\n",
    "- factorial example \n",
    "    - $n! = n\\cdot(n-1) \\cdots 2\\cdot 1$\n",
    "\n",
    "<br>\n",
    "<img src = \"./image_files/recursion01.png\", width = 450>\n",
    "<br>\n",
    "\n",
    "- watch Harvard CS50 lecture on recursion"
   ]
  },
  {
   "cell_type": "code",
   "execution_count": 2,
   "metadata": {
    "collapsed": false
   },
   "outputs": [
    {
     "data": {
      "text/html": [
       "<iframe width=\"560\" height=\"315\" \n",
       "src=\"https://www.youtube.com/embed/t4MSwiqfLaY\" \n",
       "frameborder=\"0\" allowfullscreen></iframe>"
      ],
      "text/plain": [
       "<IPython.core.display.HTML object>"
      ]
     },
     "metadata": {},
     "output_type": "display_data"
    }
   ],
   "source": [
    "%%html\n",
    "<iframe width=\"560\" height=\"315\" \n",
    "src=\"https://www.youtube.com/embed/t4MSwiqfLaY\" \n",
    "frameborder=\"0\" allowfullscreen></iframe>"
   ]
  },
  {
   "cell_type": "markdown",
   "metadata": {},
   "source": [
    "## 2.1. foo example"
   ]
  },
  {
   "cell_type": "code",
   "execution_count": 28,
   "metadata": {
    "collapsed": true
   },
   "outputs": [],
   "source": [
    "def foo(str):\n",
    "    print(str)    "
   ]
  },
  {
   "cell_type": "code",
   "execution_count": 29,
   "metadata": {
    "collapsed": true
   },
   "outputs": [],
   "source": [
    "def foo_recursion(str):\n",
    "    print('{s}\\n'.format(s=str))\n",
    "    foo_recursion(str)                    "
   ]
  },
  {
   "cell_type": "code",
   "execution_count": 30,
   "metadata": {
    "collapsed": true
   },
   "outputs": [],
   "source": [
    "def foo_recursion_correct(n):\n",
    "    if n <= 0:\n",
    "        print(\"Bye! \\n\")\n",
    "    else:\n",
    "        print('Hi! \\n')\n",
    "        foo_recursion_correct(n-1)"
   ]
  },
  {
   "cell_type": "code",
   "execution_count": 31,
   "metadata": {
    "collapsed": false
   },
   "outputs": [
    {
     "name": "stdout",
     "output_type": "stream",
     "text": [
      "Hello class\n",
      "\n"
     ]
    }
   ],
   "source": [
    "print ('{c}\\n'.format(c=\"Hello class\"))"
   ]
  },
  {
   "cell_type": "code",
   "execution_count": 32,
   "metadata": {
    "collapsed": false
   },
   "outputs": [
    {
     "name": "stdout",
     "output_type": "stream",
     "text": [
      "Hello class\n"
     ]
    }
   ],
   "source": [
    "foo('Hello class')"
   ]
  },
  {
   "cell_type": "code",
   "execution_count": 33,
   "metadata": {
    "collapsed": false
   },
   "outputs": [
    {
     "name": "stdout",
     "output_type": "stream",
     "text": [
      "Hi! \n",
      "\n",
      "Hi! \n",
      "\n",
      "Hi! \n",
      "\n",
      "Hi! \n",
      "\n",
      "Bye! \n",
      "\n"
     ]
    }
   ],
   "source": [
    "#foo_recursion(\"d\")\n",
    "\n",
    "#foo_recursion('Hello Class')\n",
    "\n",
    "foo_recursion_correct(4)"
   ]
  },
  {
   "cell_type": "markdown",
   "metadata": {},
   "source": [
    "## 2.2. Factorial example"
   ]
  },
  {
   "cell_type": "code",
   "execution_count": 34,
   "metadata": {
    "collapsed": false
   },
   "outputs": [
    {
     "name": "stdout",
     "output_type": "stream",
     "text": [
      "120\n"
     ]
    }
   ],
   "source": [
    "n = 5\n",
    "\n",
    "m = 1\n",
    "for i in range(n):\n",
    "    m = m*(i+1)\n",
    "    \n",
    "print (m)"
   ]
  },
  {
   "cell_type": "code",
   "execution_count": 35,
   "metadata": {
    "collapsed": true
   },
   "outputs": [],
   "source": [
    "def fac(n):\n",
    "    if n == 1:\n",
    "        return 1\n",
    "    else:\n",
    "        return n*fac(n-1)    "
   ]
  },
  {
   "cell_type": "code",
   "execution_count": 36,
   "metadata": {
    "collapsed": false
   },
   "outputs": [
    {
     "data": {
      "text/plain": [
       "120"
      ]
     },
     "execution_count": 36,
     "metadata": {},
     "output_type": "execute_result"
    }
   ],
   "source": [
    "# recursive\n",
    "fac(5)"
   ]
  },
  {
   "cell_type": "markdown",
   "metadata": {},
   "source": [
    "# 3. Dynamic Programming\n",
    "\n",
    "- Dynamic Programming: general, powerful algorithm design technique\n",
    "\n",
    "\n",
    "- Fibonacci numbers:\n",
    "\n",
    "$$\n",
    "\\begin{align*}\n",
    "F_1 &= F_2 = 1 \\\\\n",
    "F_n &= F_{n-1} + F_{n-2}\n",
    "\\end{align*}\n",
    "$$\n",
    "\n",
    "\n",
    "## 3.1. Naive Recursive algorithm\n",
    "\n",
    "$$\n",
    "\\begin{align*}\n",
    "\\text{fib}(n):&\\\\\n",
    "&\\text{if } n \\leq 2:\\; f = 1\\\\\n",
    "&\\text{else}:\\; f = \\text{fib}(n-1) + \\text{fib}(n-2)\\\\\n",
    "&\\text{return } f\n",
    "\\end{align*}$$\n",
    "\n",
    "it  works, Is it good?\n",
    "\n",
    "## 3.2. Memorized DP algorithm\n",
    "$$\n",
    "\\begin{align*}\n",
    "\\text{memo }= [\\;]&\\\\\n",
    "\\text{fib}(n):&\\\\\n",
    "& \\text{if $n$ in memo : return memo}[n]\\\\ \\\\\n",
    "& \\text{if } n\\leq 2 :\\; f = 1\\\\\n",
    "& \\text{else}: \\;f = \\text{fib}(n-1) + \\text{fib}(n-2)\\\\ \\\\\n",
    "&\\text{memo}[n] = f\\\\\n",
    "&\\text{return } f\n",
    "\\end{align*}$$\n",
    "\n",
    "Benefit?\n",
    "\n",
    "- fib$(n)$ only recurses the first time it's called\n",
    " \n",
    "<br>\n",
    "<img src = \"./image_files/DP01.png\", width = 300>\n",
    "<br>\n",
    "\n",
    "- memorize (remember) & re-use solutions to subproblems that helps solve the problem.\n",
    "\n",
    "$\\quad \\implies$ DP $\\simeq$ recursion + memorization\n",
    "\n",
    "## 3.3. Bottom-up DP algorithm\n",
    "$$\n",
    "\\begin{align*}\n",
    "&\\text{fib} = \\{\\}\\\\\n",
    "&\\text{for}\\; k    \\text{ in range}(1, n+1):\\\\\n",
    "&\\qquad\\text{if }k \\leq 2 : f = 1\\\\\n",
    "&\\qquad\\text{else}: f = \\text{fib}(k-1) + \\text{fib}(k-2)\\\\\n",
    "&\\qquad\\text{fib}(k) = f\\\\\n",
    "\\end{align*}$$\n",
    "\n",
    "<br>\n",
    "<img src = \"./image_files/DP02.png\", width = 400>\n",
    "<br>\n",
    "\n",
    "- By Prof. Erik Demaine from MIT online lecture"
   ]
  },
  {
   "cell_type": "code",
   "execution_count": 3,
   "metadata": {
    "collapsed": false
   },
   "outputs": [
    {
     "data": {
      "text/html": [
       "<iframe width=\"560\" height=\"315\" \n",
       "src=\"https://www.youtube.com/embed/OQ5jsbhAv_M\" \n",
       "frameborder=\"0\" allowfullscreen></iframe>"
      ],
      "text/plain": [
       "<IPython.core.display.HTML object>"
      ]
     },
     "metadata": {},
     "output_type": "display_data"
    }
   ],
   "source": [
    "%%html\n",
    "<iframe width=\"560\" height=\"315\" \n",
    "src=\"https://www.youtube.com/embed/OQ5jsbhAv_M\" \n",
    "frameborder=\"0\" allowfullscreen></iframe>"
   ]
  },
  {
   "cell_type": "markdown",
   "metadata": {},
   "source": [
    "## 3.4. Examples\n",
    "\n",
    "\n",
    "### 3.4.1. Fibonacci"
   ]
  },
  {
   "cell_type": "code",
   "execution_count": 38,
   "metadata": {
    "collapsed": true
   },
   "outputs": [],
   "source": [
    "# naive Fibonacci\n",
    "\n",
    "def fib(n):\n",
    "    if n <= 2:\n",
    "        return 1\n",
    "    else:\n",
    "        return fib(n-1) + fib(n-2)    "
   ]
  },
  {
   "cell_type": "code",
   "execution_count": 39,
   "metadata": {
    "collapsed": false
   },
   "outputs": [
    {
     "data": {
      "text/plain": [
       "55"
      ]
     },
     "execution_count": 39,
     "metadata": {},
     "output_type": "execute_result"
    }
   ],
   "source": [
    "fib(10)"
   ]
  },
  {
   "cell_type": "code",
   "execution_count": 40,
   "metadata": {
    "collapsed": true
   },
   "outputs": [],
   "source": [
    "# Memorized DP Fibonacci\n",
    "\n",
    "def mfib(n):\n",
    "    global memo\n",
    "        \n",
    "    if memo[n-1] != 0:\n",
    "        return memo[n-1]\n",
    "    elif n <= 2:\n",
    "        return 1\n",
    "    else:\n",
    "        memo[n-1] = mfib(n-1) + mfib(n-2)\n",
    "        return memo[n-1]"
   ]
  },
  {
   "cell_type": "code",
   "execution_count": 41,
   "metadata": {
    "collapsed": false
   },
   "outputs": [
    {
     "data": {
      "text/plain": [
       "55.0"
      ]
     },
     "execution_count": 41,
     "metadata": {},
     "output_type": "execute_result"
    }
   ],
   "source": [
    "import numpy as np\n",
    "\n",
    "n = 10\n",
    "memo = np.zeros(n)\n",
    "mfib(n)"
   ]
  },
  {
   "cell_type": "code",
   "execution_count": 42,
   "metadata": {
    "collapsed": true
   },
   "outputs": [],
   "source": [
    "# Botton-up Fibonacci\n",
    "\n",
    "def bfib(n):\n",
    "    fib = np.zeros(n)\n",
    "    for k in np.arange(n):\n",
    "        if k <= 1:\n",
    "            f = 1            \n",
    "        else:\n",
    "            f = fib[k-1] + fib[k-2]            \n",
    "\n",
    "        fib[k] = f\n",
    "        \n",
    "    return fib[-1]"
   ]
  },
  {
   "cell_type": "code",
   "execution_count": 43,
   "metadata": {
    "collapsed": false
   },
   "outputs": [
    {
     "data": {
      "text/plain": [
       "832040.0"
      ]
     },
     "execution_count": 43,
     "metadata": {},
     "output_type": "execute_result"
    }
   ],
   "source": [
    "bfib(30)"
   ]
  },
  {
   "cell_type": "code",
   "execution_count": 44,
   "metadata": {
    "collapsed": false
   },
   "outputs": [
    {
     "name": "stdout",
     "output_type": "stream",
     "text": [
      "10 loops, best of 3: 147 ms per loop\n"
     ]
    }
   ],
   "source": [
    "n = 30\n",
    "%timeit fib(30)"
   ]
  },
  {
   "cell_type": "code",
   "execution_count": 45,
   "metadata": {
    "collapsed": false
   },
   "outputs": [
    {
     "name": "stdout",
     "output_type": "stream",
     "text": [
      "The slowest run took 90.07 times longer than the fastest. This could mean that an intermediate result is being cached \n",
      "1000000 loops, best of 3: 357 ns per loop\n"
     ]
    }
   ],
   "source": [
    "memo = np.zeros(n)\n",
    "%timeit mfib(30)"
   ]
  },
  {
   "cell_type": "code",
   "execution_count": 46,
   "metadata": {
    "collapsed": false
   },
   "outputs": [
    {
     "name": "stdout",
     "output_type": "stream",
     "text": [
      "10000 loops, best of 3: 20.5 µs per loop\n"
     ]
    }
   ],
   "source": [
    "%timeit bfib(30)"
   ]
  },
  {
   "cell_type": "markdown",
   "metadata": {},
   "source": [
    "### 3.4.2. Knapsack problem using Dynamic Programming (DP)\n",
    "\n",
    "From MIT Introduction to Computer Science and Programming\n",
    "\n",
    "__Knapsack problem__\n",
    "\n",
    "- burglar (or thief) can carry at most 20 kg ( = maximum capacity = 20)\n",
    "\n",
    "- Quickly decide which item to carry\n",
    "\n",
    "\n",
    "| items | 1 | 2 | 3 | 4 | 5 | 6 |\n",
    "| --- | --- | --- | --- | --- | --- | --- |\n",
    "| weight | 10 | 9 | 4 | 2 | 1 | 20 |\n",
    "| value | 175 | 90 | 20 | 50 | 10 | 200 |\n",
    "\n",
    "\n",
    "**Approach**\n",
    "\n",
    "1. guess (or trial and error)\n",
    "\n",
    "2. Exhaustive search if possible\n",
    "\n",
    "3. \"smarter way\" $\\implies$ Recursive or dynamic programming\n",
    "\n",
    "$$\n",
    "\\text{key ideas} = \\text{original problem} \\rightarrow \\begin{cases} \\text{subproblem} \\rightarrow & \\begin{cases} \\text{subproblem} \\rightarrow \\\\ \\text{subproblem} \\rightarrow \\end{cases}\\\\ \\text{subproblem} \\rightarrow & \\begin{cases} \\text{subproblem} \\rightarrow\\\\ \\text{subproblem} \\rightarrow\\end{cases}\\end{cases} \n",
    "$$\n",
    "\n",
    "<br><br>\n",
    "Suppose we have the following function:\n",
    "\n",
    "$\\quad$`[value, taken] = chooseBest(items(1:6),maxWeight)`\n",
    "\n",
    "1) item 1 is not taken\n",
    "\n",
    "$\\quad$`[v_1,t_1] = chooseBest(items(2:6),maxWeight)`\n",
    "\n",
    "   \n",
    "2) item 1 is taken\n",
    "\n",
    "$\\quad$`[v_2,t_2] = chooseBest(items(2:6),maxWeight - weights(1))`\n",
    "\n",
    "$\\quad\\qquad\\;\\;\\,$`v_2 = v_2 + values(1)`\n",
    "\n",
    "$\\qquad\\quad\\;\\;\\,$`t_2 = [items(1),t_2]`   "
   ]
  },
  {
   "cell_type": "code",
   "execution_count": 47,
   "metadata": {
    "collapsed": true
   },
   "outputs": [],
   "source": [
    "def chooseBest(items,maxWeight):\n",
    "    global weights\n",
    "    global values\n",
    "    \n",
    "    if len(items) == 0 or maxWeight <= 0:\n",
    "        value = 0\n",
    "        taken = []\n",
    "        return value, taken\n",
    "    else:\n",
    "        first = items[0]\n",
    "        w = weights[first]\n",
    "        rest = items[1:]\n",
    "        \n",
    "        # do not take the first item\n",
    "        v1,t1 = chooseBest(rest,maxWeight)\n",
    "        \n",
    "        # do take the first item\n",
    "        v2,t2 = chooseBest(rest,maxWeight - w)\n",
    "        v2 = v2 + values[first]\n",
    "        t2 = [first] + t2\n",
    "        \n",
    "        if maxWeight - w >= 0 and v2 >= v1:\n",
    "            value = v2\n",
    "            taken = t2\n",
    "        else:\n",
    "            value = v1\n",
    "            taken = t1\n",
    "        \n",
    "        return value, taken              "
   ]
  },
  {
   "cell_type": "code",
   "execution_count": 48,
   "metadata": {
    "collapsed": false
   },
   "outputs": [
    {
     "data": {
      "text/plain": [
       "(275, [0, 1, 4])"
      ]
     },
     "execution_count": 48,
     "metadata": {},
     "output_type": "execute_result"
    }
   ],
   "source": [
    "n = 6\n",
    "weights = [10,9,4,2,1,20]\n",
    "values = [175,90,20,50,10,200]\n",
    "\n",
    "items = range(n)\n",
    "maxWeight = 20\n",
    "\n",
    "chooseBest(items,maxWeight)"
   ]
  },
  {
   "cell_type": "markdown",
   "metadata": {},
   "source": [
    "### 3.4.3. Climbing a stair\n",
    "\n",
    "You are climbing a stair case. Each time you can either make 1 step, 2 steps, or 3 steps. How many distinct ways can you climb if the stairs has $n = 30$ steps?"
   ]
  },
  {
   "cell_type": "code",
   "execution_count": 49,
   "metadata": {
    "collapsed": true
   },
   "outputs": [],
   "source": [
    "import numpy as np\n",
    "\n",
    "def stair(n):\n",
    "    global memo\n",
    "    if memo[n] != 0:\n",
    "        m = memo[n]\n",
    "    elif n == 1:\n",
    "        m = 1\n",
    "    elif n == 2:\n",
    "        m = 2\n",
    "    elif n == 3:\n",
    "        m = 4\n",
    "    else:\n",
    "        m = stair(n-1) + stair(n-2) + stair(n-3)\n",
    "        memo[n] = m\n",
    "    return m"
   ]
  },
  {
   "cell_type": "code",
   "execution_count": 50,
   "metadata": {
    "collapsed": false
   },
   "outputs": [
    {
     "data": {
      "text/plain": [
       "53798080.0"
      ]
     },
     "execution_count": 50,
     "metadata": {},
     "output_type": "execute_result"
    }
   ],
   "source": [
    "n = 30\n",
    "global memo\n",
    "memo = np.zeros((n+1, ))\n",
    "\n",
    "stair(n)"
   ]
  },
  {
   "cell_type": "code",
   "execution_count": 4,
   "metadata": {
    "collapsed": false
   },
   "outputs": [
    {
     "data": {
      "application/javascript": [
       "$.getScript('https://kmahelona.github.io/ipython_notebook_goodies/ipython_notebook_toc.js')"
      ],
      "text/plain": [
       "<IPython.core.display.Javascript object>"
      ]
     },
     "metadata": {},
     "output_type": "display_data"
    }
   ],
   "source": [
    "%%javascript\n",
    "$.getScript('https://kmahelona.github.io/ipython_notebook_goodies/ipython_notebook_toc.js')"
   ]
  }
 ],
 "metadata": {
  "kernelspec": {
   "display_name": "Python 3",
   "language": "python",
   "name": "python3"
  },
  "language_info": {
   "codemirror_mode": {
    "name": "ipython",
    "version": 3
   },
   "file_extension": ".py",
   "mimetype": "text/x-python",
   "name": "python",
   "nbconvert_exporter": "python",
   "pygments_lexer": "ipython3",
   "version": "3.5.2"
  }
 },
 "nbformat": 4,
 "nbformat_minor": 0
}
