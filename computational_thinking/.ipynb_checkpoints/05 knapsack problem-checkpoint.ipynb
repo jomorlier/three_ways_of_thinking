{
 "cells": [
  {
   "cell_type": "markdown",
   "metadata": {},
   "source": [
    "# Knapsack Problem"
   ]
  },
  {
   "cell_type": "markdown",
   "metadata": {},
   "source": [
    "| items | 1 | 2 | 3 | 4 | 5 | 6 |\n",
    "| --- | --- | --- | --- | --- | --- | --- |\n",
    "| weight | 10 | 9 | 4 | 2 | 1 | 20 |\n",
    "| value | 175 | 90 | 20 | 50 | 10 | 200 |\n",
    "\n",
    "burglar ( or thief) can carry at most 20 kg ( = maximum capacity = 20)\n",
    "\n",
    "Quickly decide which item to carry"
   ]
  },
  {
   "cell_type": "markdown",
   "metadata": {},
   "source": [
    "**Approach**\n",
    "\n",
    "1.\n",
    "\n",
    "guess (or trial and error)\n",
    "\n",
    "2.\n",
    "\n",
    "Exhaustive search if possible\n",
    "\n",
    "3.\n",
    "\n",
    "$\\begin{align*}\\text{\"smarter way\"} \\Rightarrow \\text{ Recursive or dynamic programming}\\\\\n",
    "\\text{key ideas = original problem } &\\rightarrow \\text{ subproblem}\\\\\n",
    "& \\rightarrow \\text{ subproblem}\n",
    "\\end{align*}$"
   ]
  },
  {
   "cell_type": "markdown",
   "metadata": {},
   "source": [
    "Suppose we have the following function:\n",
    "\n",
    "$\\text{[value, taken] = chooseBest(items(1:6), maxWeight)}$\n",
    "\n",
    "1.item 1 is not taken\n",
    "\n",
    "$ \\quad \\begin{align*}[v_1, t_1] = \\text{ chooseBest(items(2:6), maxWeight) } \\end{align*}$\n",
    "    \n",
    "2.item 1 is taken\n",
    "\n",
    "$ \\quad \\begin{align*}[v_2, t_2] &= chooseBest(items(2:6), maxWeight - weights(1))\\\\\n",
    "    v_2 & = v_2 + values(1)\\\\\n",
    "    t_2 & = [items(1) , t_2]\n",
    "    \\end{align*}$\n",
    "    "
   ]
  },
  {
   "cell_type": "code",
   "execution_count": 1,
   "metadata": {
    "collapsed": true
   },
   "outputs": [],
   "source": [
    "def chooseBest(items,maxWeight):\n",
    "    global weights\n",
    "    global values\n",
    "    \n",
    "    if len(items) == 0 or maxWeight <= 0:\n",
    "        value = 0\n",
    "        taken = []\n",
    "        return value, taken\n",
    "    else:\n",
    "        first = items[0]\n",
    "        w = weights[first]\n",
    "        rest = items[1:]\n",
    "        \n",
    "        # do not take the first item\n",
    "        v1,t1 = chooseBest(rest,maxWeight)\n",
    "        \n",
    "        # do take the first item\n",
    "        v2,t2 = chooseBest(rest,maxWeight - w)\n",
    "        v2 = v2 + values[first]\n",
    "        t2 = [first] + t2\n",
    "        \n",
    "        if maxWeight - w >= 0 and v2 >= v1:\n",
    "            value = v2\n",
    "            taken = t2\n",
    "        else:\n",
    "            value = v1\n",
    "            taken = t1\n",
    "        \n",
    "        return value, taken\n",
    "              "
   ]
  },
  {
   "cell_type": "code",
   "execution_count": 2,
   "metadata": {
    "collapsed": false
   },
   "outputs": [
    {
     "data": {
      "text/plain": [
       "(275, [0, 1, 4])"
      ]
     },
     "execution_count": 2,
     "metadata": {},
     "output_type": "execute_result"
    }
   ],
   "source": [
    "n = 6\n",
    "weights = [10,9,4,2,1,20]\n",
    "values = [175,90,20,50,10,200]\n",
    "\n",
    "items = range(n)\n",
    "maxWeight = 20\n",
    "\n",
    "chooseBest(items,maxWeight)"
   ]
  },
  {
   "cell_type": "code",
   "execution_count": null,
   "metadata": {
    "collapsed": true
   },
   "outputs": [],
   "source": []
  }
 ],
 "metadata": {
  "kernelspec": {
   "display_name": "Python 2",
   "language": "python",
   "name": "python2"
  },
  "language_info": {
   "codemirror_mode": {
    "name": "ipython",
    "version": 2
   },
   "file_extension": ".py",
   "mimetype": "text/x-python",
   "name": "python",
   "nbconvert_exporter": "python",
   "pygments_lexer": "ipython2",
   "version": "2.7.11"
  }
 },
 "nbformat": 4,
 "nbformat_minor": 0
}
